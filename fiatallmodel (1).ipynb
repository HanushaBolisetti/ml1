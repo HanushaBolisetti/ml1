{
 "cells": [
  {
   "cell_type": "code",
   "execution_count": 1,
   "metadata": {},
   "outputs": [],
   "source": [
    "import pandas as a\n",
    "import pickle # \n",
    "import warnings\n",
    "warnings.filterwarnings(\"ignore\")"
   ]
  },
  {
   "cell_type": "code",
   "execution_count": 2,
   "metadata": {},
   "outputs": [],
   "source": [
    "data=a.read_csv(\"C:/Users/Hanush/Desktop/cardata.csv\")"
   ]
  },
  {
   "cell_type": "code",
   "execution_count": 3,
   "metadata": {},
   "outputs": [
    {
     "data": {
      "text/html": [
       "<div>\n",
       "<style scoped>\n",
       "    .dataframe tbody tr th:only-of-type {\n",
       "        vertical-align: middle;\n",
       "    }\n",
       "\n",
       "    .dataframe tbody tr th {\n",
       "        vertical-align: top;\n",
       "    }\n",
       "\n",
       "    .dataframe thead th {\n",
       "        text-align: right;\n",
       "    }\n",
       "</style>\n",
       "<table border=\"1\" class=\"dataframe\">\n",
       "  <thead>\n",
       "    <tr style=\"text-align: right;\">\n",
       "      <th></th>\n",
       "      <th>ID</th>\n",
       "      <th>model</th>\n",
       "      <th>engine_power</th>\n",
       "      <th>age_in_days</th>\n",
       "      <th>km</th>\n",
       "      <th>previous_owners</th>\n",
       "      <th>lat</th>\n",
       "      <th>lon</th>\n",
       "      <th>price</th>\n",
       "    </tr>\n",
       "  </thead>\n",
       "  <tbody>\n",
       "    <tr>\n",
       "      <th>0</th>\n",
       "      <td>1</td>\n",
       "      <td>lounge</td>\n",
       "      <td>51</td>\n",
       "      <td>882</td>\n",
       "      <td>25000</td>\n",
       "      <td>1</td>\n",
       "      <td>44.907242</td>\n",
       "      <td>8.611560</td>\n",
       "      <td>8900</td>\n",
       "    </tr>\n",
       "    <tr>\n",
       "      <th>1</th>\n",
       "      <td>2</td>\n",
       "      <td>pop</td>\n",
       "      <td>51</td>\n",
       "      <td>1186</td>\n",
       "      <td>32500</td>\n",
       "      <td>1</td>\n",
       "      <td>45.666359</td>\n",
       "      <td>12.241890</td>\n",
       "      <td>8800</td>\n",
       "    </tr>\n",
       "    <tr>\n",
       "      <th>2</th>\n",
       "      <td>3</td>\n",
       "      <td>sport</td>\n",
       "      <td>74</td>\n",
       "      <td>4658</td>\n",
       "      <td>142228</td>\n",
       "      <td>1</td>\n",
       "      <td>45.503300</td>\n",
       "      <td>11.417840</td>\n",
       "      <td>4200</td>\n",
       "    </tr>\n",
       "    <tr>\n",
       "      <th>3</th>\n",
       "      <td>4</td>\n",
       "      <td>lounge</td>\n",
       "      <td>51</td>\n",
       "      <td>2739</td>\n",
       "      <td>160000</td>\n",
       "      <td>1</td>\n",
       "      <td>40.633171</td>\n",
       "      <td>17.634609</td>\n",
       "      <td>6000</td>\n",
       "    </tr>\n",
       "    <tr>\n",
       "      <th>4</th>\n",
       "      <td>5</td>\n",
       "      <td>pop</td>\n",
       "      <td>73</td>\n",
       "      <td>3074</td>\n",
       "      <td>106880</td>\n",
       "      <td>1</td>\n",
       "      <td>41.903221</td>\n",
       "      <td>12.495650</td>\n",
       "      <td>5700</td>\n",
       "    </tr>\n",
       "  </tbody>\n",
       "</table>\n",
       "</div>"
      ],
      "text/plain": [
       "   ID   model  engine_power  age_in_days      km  previous_owners        lat  \\\n",
       "0   1  lounge            51          882   25000                1  44.907242   \n",
       "1   2     pop            51         1186   32500                1  45.666359   \n",
       "2   3   sport            74         4658  142228                1  45.503300   \n",
       "3   4  lounge            51         2739  160000                1  40.633171   \n",
       "4   5     pop            73         3074  106880                1  41.903221   \n",
       "\n",
       "         lon  price  \n",
       "0   8.611560   8900  \n",
       "1  12.241890   8800  \n",
       "2  11.417840   4200  \n",
       "3  17.634609   6000  \n",
       "4  12.495650   5700  "
      ]
     },
     "execution_count": 3,
     "metadata": {},
     "output_type": "execute_result"
    }
   ],
   "source": [
    "data.head(5)"
   ]
  },
  {
   "cell_type": "code",
   "execution_count": 4,
   "metadata": {},
   "outputs": [
    {
     "data": {
      "text/html": [
       "<div>\n",
       "<style scoped>\n",
       "    .dataframe tbody tr th:only-of-type {\n",
       "        vertical-align: middle;\n",
       "    }\n",
       "\n",
       "    .dataframe tbody tr th {\n",
       "        vertical-align: top;\n",
       "    }\n",
       "\n",
       "    .dataframe thead th {\n",
       "        text-align: right;\n",
       "    }\n",
       "</style>\n",
       "<table border=\"1\" class=\"dataframe\">\n",
       "  <thead>\n",
       "    <tr style=\"text-align: right;\">\n",
       "      <th></th>\n",
       "      <th>ID</th>\n",
       "      <th>engine_power</th>\n",
       "      <th>age_in_days</th>\n",
       "      <th>km</th>\n",
       "      <th>previous_owners</th>\n",
       "      <th>lat</th>\n",
       "      <th>lon</th>\n",
       "      <th>price</th>\n",
       "    </tr>\n",
       "  </thead>\n",
       "  <tbody>\n",
       "    <tr>\n",
       "      <th>count</th>\n",
       "      <td>1538.000000</td>\n",
       "      <td>1538.000000</td>\n",
       "      <td>1538.000000</td>\n",
       "      <td>1538.000000</td>\n",
       "      <td>1538.000000</td>\n",
       "      <td>1538.000000</td>\n",
       "      <td>1538.000000</td>\n",
       "      <td>1538.000000</td>\n",
       "    </tr>\n",
       "    <tr>\n",
       "      <th>mean</th>\n",
       "      <td>769.500000</td>\n",
       "      <td>51.904421</td>\n",
       "      <td>1650.980494</td>\n",
       "      <td>53396.011704</td>\n",
       "      <td>1.123537</td>\n",
       "      <td>43.541361</td>\n",
       "      <td>11.563428</td>\n",
       "      <td>8576.003901</td>\n",
       "    </tr>\n",
       "    <tr>\n",
       "      <th>std</th>\n",
       "      <td>444.126671</td>\n",
       "      <td>3.988023</td>\n",
       "      <td>1289.522278</td>\n",
       "      <td>40046.830723</td>\n",
       "      <td>0.416423</td>\n",
       "      <td>2.133518</td>\n",
       "      <td>2.328190</td>\n",
       "      <td>1939.958641</td>\n",
       "    </tr>\n",
       "    <tr>\n",
       "      <th>min</th>\n",
       "      <td>1.000000</td>\n",
       "      <td>51.000000</td>\n",
       "      <td>366.000000</td>\n",
       "      <td>1232.000000</td>\n",
       "      <td>1.000000</td>\n",
       "      <td>36.855839</td>\n",
       "      <td>7.245400</td>\n",
       "      <td>2500.000000</td>\n",
       "    </tr>\n",
       "    <tr>\n",
       "      <th>25%</th>\n",
       "      <td>385.250000</td>\n",
       "      <td>51.000000</td>\n",
       "      <td>670.000000</td>\n",
       "      <td>20006.250000</td>\n",
       "      <td>1.000000</td>\n",
       "      <td>41.802990</td>\n",
       "      <td>9.505090</td>\n",
       "      <td>7122.500000</td>\n",
       "    </tr>\n",
       "    <tr>\n",
       "      <th>50%</th>\n",
       "      <td>769.500000</td>\n",
       "      <td>51.000000</td>\n",
       "      <td>1035.000000</td>\n",
       "      <td>39031.000000</td>\n",
       "      <td>1.000000</td>\n",
       "      <td>44.394096</td>\n",
       "      <td>11.869260</td>\n",
       "      <td>9000.000000</td>\n",
       "    </tr>\n",
       "    <tr>\n",
       "      <th>75%</th>\n",
       "      <td>1153.750000</td>\n",
       "      <td>51.000000</td>\n",
       "      <td>2616.000000</td>\n",
       "      <td>79667.750000</td>\n",
       "      <td>1.000000</td>\n",
       "      <td>45.467960</td>\n",
       "      <td>12.769040</td>\n",
       "      <td>10000.000000</td>\n",
       "    </tr>\n",
       "    <tr>\n",
       "      <th>max</th>\n",
       "      <td>1538.000000</td>\n",
       "      <td>77.000000</td>\n",
       "      <td>4658.000000</td>\n",
       "      <td>235000.000000</td>\n",
       "      <td>4.000000</td>\n",
       "      <td>46.795612</td>\n",
       "      <td>18.365520</td>\n",
       "      <td>11100.000000</td>\n",
       "    </tr>\n",
       "  </tbody>\n",
       "</table>\n",
       "</div>"
      ],
      "text/plain": [
       "                ID  engine_power  age_in_days             km  previous_owners  \\\n",
       "count  1538.000000   1538.000000  1538.000000    1538.000000      1538.000000   \n",
       "mean    769.500000     51.904421  1650.980494   53396.011704         1.123537   \n",
       "std     444.126671      3.988023  1289.522278   40046.830723         0.416423   \n",
       "min       1.000000     51.000000   366.000000    1232.000000         1.000000   \n",
       "25%     385.250000     51.000000   670.000000   20006.250000         1.000000   \n",
       "50%     769.500000     51.000000  1035.000000   39031.000000         1.000000   \n",
       "75%    1153.750000     51.000000  2616.000000   79667.750000         1.000000   \n",
       "max    1538.000000     77.000000  4658.000000  235000.000000         4.000000   \n",
       "\n",
       "               lat          lon         price  \n",
       "count  1538.000000  1538.000000   1538.000000  \n",
       "mean     43.541361    11.563428   8576.003901  \n",
       "std       2.133518     2.328190   1939.958641  \n",
       "min      36.855839     7.245400   2500.000000  \n",
       "25%      41.802990     9.505090   7122.500000  \n",
       "50%      44.394096    11.869260   9000.000000  \n",
       "75%      45.467960    12.769040  10000.000000  \n",
       "max      46.795612    18.365520  11100.000000  "
      ]
     },
     "execution_count": 4,
     "metadata": {},
     "output_type": "execute_result"
    }
   ],
   "source": [
    "data.describe()"
   ]
  },
  {
   "cell_type": "code",
   "execution_count": null,
   "metadata": {},
   "outputs": [],
   "source": []
  },
  {
   "cell_type": "code",
   "execution_count": null,
   "metadata": {},
   "outputs": [],
   "source": []
  },
  {
   "cell_type": "code",
   "execution_count": 5,
   "metadata": {},
   "outputs": [
    {
     "data": {
      "text/html": [
       "<div>\n",
       "<style scoped>\n",
       "    .dataframe tbody tr th:only-of-type {\n",
       "        vertical-align: middle;\n",
       "    }\n",
       "\n",
       "    .dataframe tbody tr th {\n",
       "        vertical-align: top;\n",
       "    }\n",
       "\n",
       "    .dataframe thead th {\n",
       "        text-align: right;\n",
       "    }\n",
       "</style>\n",
       "<table border=\"1\" class=\"dataframe\">\n",
       "  <thead>\n",
       "    <tr style=\"text-align: right;\">\n",
       "      <th></th>\n",
       "      <th>ID</th>\n",
       "      <th>model</th>\n",
       "      <th>engine_power</th>\n",
       "      <th>age_in_days</th>\n",
       "      <th>km</th>\n",
       "      <th>previous_owners</th>\n",
       "      <th>lat</th>\n",
       "      <th>lon</th>\n",
       "      <th>price</th>\n",
       "    </tr>\n",
       "  </thead>\n",
       "  <tbody>\n",
       "    <tr>\n",
       "      <th>1528</th>\n",
       "      <td>1529</td>\n",
       "      <td>lounge</td>\n",
       "      <td>51</td>\n",
       "      <td>2861</td>\n",
       "      <td>126000</td>\n",
       "      <td>1</td>\n",
       "      <td>43.841980</td>\n",
       "      <td>10.51531</td>\n",
       "      <td>5500</td>\n",
       "    </tr>\n",
       "    <tr>\n",
       "      <th>1529</th>\n",
       "      <td>1530</td>\n",
       "      <td>lounge</td>\n",
       "      <td>51</td>\n",
       "      <td>731</td>\n",
       "      <td>22551</td>\n",
       "      <td>1</td>\n",
       "      <td>38.122070</td>\n",
       "      <td>13.36112</td>\n",
       "      <td>9900</td>\n",
       "    </tr>\n",
       "    <tr>\n",
       "      <th>1530</th>\n",
       "      <td>1531</td>\n",
       "      <td>lounge</td>\n",
       "      <td>51</td>\n",
       "      <td>670</td>\n",
       "      <td>29000</td>\n",
       "      <td>1</td>\n",
       "      <td>45.764648</td>\n",
       "      <td>8.99450</td>\n",
       "      <td>10800</td>\n",
       "    </tr>\n",
       "    <tr>\n",
       "      <th>1531</th>\n",
       "      <td>1532</td>\n",
       "      <td>sport</td>\n",
       "      <td>73</td>\n",
       "      <td>4505</td>\n",
       "      <td>127000</td>\n",
       "      <td>1</td>\n",
       "      <td>45.528511</td>\n",
       "      <td>9.59323</td>\n",
       "      <td>4750</td>\n",
       "    </tr>\n",
       "    <tr>\n",
       "      <th>1532</th>\n",
       "      <td>1533</td>\n",
       "      <td>pop</td>\n",
       "      <td>51</td>\n",
       "      <td>1917</td>\n",
       "      <td>52008</td>\n",
       "      <td>1</td>\n",
       "      <td>45.548000</td>\n",
       "      <td>11.54947</td>\n",
       "      <td>9900</td>\n",
       "    </tr>\n",
       "    <tr>\n",
       "      <th>1533</th>\n",
       "      <td>1534</td>\n",
       "      <td>sport</td>\n",
       "      <td>51</td>\n",
       "      <td>3712</td>\n",
       "      <td>115280</td>\n",
       "      <td>1</td>\n",
       "      <td>45.069679</td>\n",
       "      <td>7.70492</td>\n",
       "      <td>5200</td>\n",
       "    </tr>\n",
       "    <tr>\n",
       "      <th>1534</th>\n",
       "      <td>1535</td>\n",
       "      <td>lounge</td>\n",
       "      <td>74</td>\n",
       "      <td>3835</td>\n",
       "      <td>112000</td>\n",
       "      <td>1</td>\n",
       "      <td>45.845692</td>\n",
       "      <td>8.66687</td>\n",
       "      <td>4600</td>\n",
       "    </tr>\n",
       "    <tr>\n",
       "      <th>1535</th>\n",
       "      <td>1536</td>\n",
       "      <td>pop</td>\n",
       "      <td>51</td>\n",
       "      <td>2223</td>\n",
       "      <td>60457</td>\n",
       "      <td>1</td>\n",
       "      <td>45.481541</td>\n",
       "      <td>9.41348</td>\n",
       "      <td>7500</td>\n",
       "    </tr>\n",
       "    <tr>\n",
       "      <th>1536</th>\n",
       "      <td>1537</td>\n",
       "      <td>lounge</td>\n",
       "      <td>51</td>\n",
       "      <td>2557</td>\n",
       "      <td>80750</td>\n",
       "      <td>1</td>\n",
       "      <td>45.000702</td>\n",
       "      <td>7.68227</td>\n",
       "      <td>5990</td>\n",
       "    </tr>\n",
       "    <tr>\n",
       "      <th>1537</th>\n",
       "      <td>1538</td>\n",
       "      <td>pop</td>\n",
       "      <td>51</td>\n",
       "      <td>1766</td>\n",
       "      <td>54276</td>\n",
       "      <td>1</td>\n",
       "      <td>40.323410</td>\n",
       "      <td>17.56827</td>\n",
       "      <td>7900</td>\n",
       "    </tr>\n",
       "  </tbody>\n",
       "</table>\n",
       "</div>"
      ],
      "text/plain": [
       "        ID   model  engine_power  age_in_days      km  previous_owners  \\\n",
       "1528  1529  lounge            51         2861  126000                1   \n",
       "1529  1530  lounge            51          731   22551                1   \n",
       "1530  1531  lounge            51          670   29000                1   \n",
       "1531  1532   sport            73         4505  127000                1   \n",
       "1532  1533     pop            51         1917   52008                1   \n",
       "1533  1534   sport            51         3712  115280                1   \n",
       "1534  1535  lounge            74         3835  112000                1   \n",
       "1535  1536     pop            51         2223   60457                1   \n",
       "1536  1537  lounge            51         2557   80750                1   \n",
       "1537  1538     pop            51         1766   54276                1   \n",
       "\n",
       "            lat       lon  price  \n",
       "1528  43.841980  10.51531   5500  \n",
       "1529  38.122070  13.36112   9900  \n",
       "1530  45.764648   8.99450  10800  \n",
       "1531  45.528511   9.59323   4750  \n",
       "1532  45.548000  11.54947   9900  \n",
       "1533  45.069679   7.70492   5200  \n",
       "1534  45.845692   8.66687   4600  \n",
       "1535  45.481541   9.41348   7500  \n",
       "1536  45.000702   7.68227   5990  \n",
       "1537  40.323410  17.56827   7900  "
      ]
     },
     "execution_count": 5,
     "metadata": {},
     "output_type": "execute_result"
    }
   ],
   "source": [
    "data.tail(10)"
   ]
  },
  {
   "cell_type": "code",
   "execution_count": 6,
   "metadata": {},
   "outputs": [
    {
     "data": {
      "text/plain": [
       "array(['lounge', 'pop', 'sport'], dtype=object)"
      ]
     },
     "execution_count": 6,
     "metadata": {},
     "output_type": "execute_result"
    }
   ],
   "source": [
    "data['model'].unique()"
   ]
  },
  {
   "cell_type": "code",
   "execution_count": 7,
   "metadata": {},
   "outputs": [
    {
     "name": "stdout",
     "output_type": "stream",
     "text": [
      "<class 'pandas.core.frame.DataFrame'>\n",
      "RangeIndex: 1538 entries, 0 to 1537\n",
      "Data columns (total 9 columns):\n",
      " #   Column           Non-Null Count  Dtype  \n",
      "---  ------           --------------  -----  \n",
      " 0   ID               1538 non-null   int64  \n",
      " 1   model            1538 non-null   object \n",
      " 2   engine_power     1538 non-null   int64  \n",
      " 3   age_in_days      1538 non-null   int64  \n",
      " 4   km               1538 non-null   int64  \n",
      " 5   previous_owners  1538 non-null   int64  \n",
      " 6   lat              1538 non-null   float64\n",
      " 7   lon              1538 non-null   float64\n",
      " 8   price            1538 non-null   int64  \n",
      "dtypes: float64(2), int64(6), object(1)\n",
      "memory usage: 108.3+ KB\n"
     ]
    }
   ],
   "source": [
    "data.info()"
   ]
  },
  {
   "cell_type": "code",
   "execution_count": 8,
   "metadata": {},
   "outputs": [
    {
     "data": {
      "text/html": [
       "<div>\n",
       "<style scoped>\n",
       "    .dataframe tbody tr th:only-of-type {\n",
       "        vertical-align: middle;\n",
       "    }\n",
       "\n",
       "    .dataframe tbody tr th {\n",
       "        vertical-align: top;\n",
       "    }\n",
       "\n",
       "    .dataframe thead th {\n",
       "        text-align: right;\n",
       "    }\n",
       "</style>\n",
       "<table border=\"1\" class=\"dataframe\">\n",
       "  <thead>\n",
       "    <tr style=\"text-align: right;\">\n",
       "      <th></th>\n",
       "      <th>ID</th>\n",
       "      <th>engine_power</th>\n",
       "      <th>age_in_days</th>\n",
       "      <th>km</th>\n",
       "      <th>previous_owners</th>\n",
       "      <th>lat</th>\n",
       "      <th>lon</th>\n",
       "      <th>price</th>\n",
       "    </tr>\n",
       "    <tr>\n",
       "      <th>model</th>\n",
       "      <th></th>\n",
       "      <th></th>\n",
       "      <th></th>\n",
       "      <th></th>\n",
       "      <th></th>\n",
       "      <th></th>\n",
       "      <th></th>\n",
       "      <th></th>\n",
       "    </tr>\n",
       "  </thead>\n",
       "  <tbody>\n",
       "    <tr>\n",
       "      <th>lounge</th>\n",
       "      <td>1094</td>\n",
       "      <td>1094</td>\n",
       "      <td>1094</td>\n",
       "      <td>1094</td>\n",
       "      <td>1094</td>\n",
       "      <td>1094</td>\n",
       "      <td>1094</td>\n",
       "      <td>1094</td>\n",
       "    </tr>\n",
       "    <tr>\n",
       "      <th>pop</th>\n",
       "      <td>358</td>\n",
       "      <td>358</td>\n",
       "      <td>358</td>\n",
       "      <td>358</td>\n",
       "      <td>358</td>\n",
       "      <td>358</td>\n",
       "      <td>358</td>\n",
       "      <td>358</td>\n",
       "    </tr>\n",
       "    <tr>\n",
       "      <th>sport</th>\n",
       "      <td>86</td>\n",
       "      <td>86</td>\n",
       "      <td>86</td>\n",
       "      <td>86</td>\n",
       "      <td>86</td>\n",
       "      <td>86</td>\n",
       "      <td>86</td>\n",
       "      <td>86</td>\n",
       "    </tr>\n",
       "  </tbody>\n",
       "</table>\n",
       "</div>"
      ],
      "text/plain": [
       "          ID  engine_power  age_in_days    km  previous_owners   lat   lon  \\\n",
       "model                                                                        \n",
       "lounge  1094          1094         1094  1094             1094  1094  1094   \n",
       "pop      358           358          358   358              358   358   358   \n",
       "sport     86            86           86    86               86    86    86   \n",
       "\n",
       "        price  \n",
       "model          \n",
       "lounge   1094  \n",
       "pop       358  \n",
       "sport      86  "
      ]
     },
     "execution_count": 8,
     "metadata": {},
     "output_type": "execute_result"
    }
   ],
   "source": [
    "data.groupby(['model']).count()"
   ]
  },
  {
   "cell_type": "code",
   "execution_count": 9,
   "metadata": {},
   "outputs": [
    {
     "data": {
      "text/html": [
       "<div>\n",
       "<style scoped>\n",
       "    .dataframe tbody tr th:only-of-type {\n",
       "        vertical-align: middle;\n",
       "    }\n",
       "\n",
       "    .dataframe tbody tr th {\n",
       "        vertical-align: top;\n",
       "    }\n",
       "\n",
       "    .dataframe thead th {\n",
       "        text-align: right;\n",
       "    }\n",
       "</style>\n",
       "<table border=\"1\" class=\"dataframe\">\n",
       "  <thead>\n",
       "    <tr style=\"text-align: right;\">\n",
       "      <th></th>\n",
       "      <th>ID</th>\n",
       "      <th>model</th>\n",
       "      <th>engine_power</th>\n",
       "      <th>age_in_days</th>\n",
       "      <th>km</th>\n",
       "      <th>lat</th>\n",
       "      <th>lon</th>\n",
       "      <th>price</th>\n",
       "    </tr>\n",
       "    <tr>\n",
       "      <th>previous_owners</th>\n",
       "      <th></th>\n",
       "      <th></th>\n",
       "      <th></th>\n",
       "      <th></th>\n",
       "      <th></th>\n",
       "      <th></th>\n",
       "      <th></th>\n",
       "      <th></th>\n",
       "    </tr>\n",
       "  </thead>\n",
       "  <tbody>\n",
       "    <tr>\n",
       "      <th>1</th>\n",
       "      <td>1389</td>\n",
       "      <td>1389</td>\n",
       "      <td>1389</td>\n",
       "      <td>1389</td>\n",
       "      <td>1389</td>\n",
       "      <td>1389</td>\n",
       "      <td>1389</td>\n",
       "      <td>1389</td>\n",
       "    </tr>\n",
       "    <tr>\n",
       "      <th>2</th>\n",
       "      <td>117</td>\n",
       "      <td>117</td>\n",
       "      <td>117</td>\n",
       "      <td>117</td>\n",
       "      <td>117</td>\n",
       "      <td>117</td>\n",
       "      <td>117</td>\n",
       "      <td>117</td>\n",
       "    </tr>\n",
       "    <tr>\n",
       "      <th>3</th>\n",
       "      <td>23</td>\n",
       "      <td>23</td>\n",
       "      <td>23</td>\n",
       "      <td>23</td>\n",
       "      <td>23</td>\n",
       "      <td>23</td>\n",
       "      <td>23</td>\n",
       "      <td>23</td>\n",
       "    </tr>\n",
       "    <tr>\n",
       "      <th>4</th>\n",
       "      <td>9</td>\n",
       "      <td>9</td>\n",
       "      <td>9</td>\n",
       "      <td>9</td>\n",
       "      <td>9</td>\n",
       "      <td>9</td>\n",
       "      <td>9</td>\n",
       "      <td>9</td>\n",
       "    </tr>\n",
       "  </tbody>\n",
       "</table>\n",
       "</div>"
      ],
      "text/plain": [
       "                   ID  model  engine_power  age_in_days    km   lat   lon  \\\n",
       "previous_owners                                                             \n",
       "1                1389   1389          1389         1389  1389  1389  1389   \n",
       "2                 117    117           117          117   117   117   117   \n",
       "3                  23     23            23           23    23    23    23   \n",
       "4                   9      9             9            9     9     9     9   \n",
       "\n",
       "                 price  \n",
       "previous_owners         \n",
       "1                 1389  \n",
       "2                  117  \n",
       "3                   23  \n",
       "4                    9  "
      ]
     },
     "execution_count": 9,
     "metadata": {},
     "output_type": "execute_result"
    }
   ],
   "source": [
    "data.groupby(['previous_owners']).count()"
   ]
  },
  {
   "cell_type": "code",
   "execution_count": 10,
   "metadata": {},
   "outputs": [
    {
     "data": {
      "text/plain": [
       "array(['lounge', 'pop', 'sport'], dtype=object)"
      ]
     },
     "execution_count": 10,
     "metadata": {},
     "output_type": "execute_result"
    }
   ],
   "source": [
    "data['model'].unique()"
   ]
  },
  {
   "cell_type": "code",
   "execution_count": 11,
   "metadata": {},
   "outputs": [
    {
     "data": {
      "text/plain": [
       "(1538, 9)"
      ]
     },
     "execution_count": 11,
     "metadata": {},
     "output_type": "execute_result"
    }
   ],
   "source": [
    "data.shape\n",
    "#df=data\n",
    "#data=df.loc[(df.model=='lounge')&(df.previous_owners==1)]"
   ]
  },
  {
   "cell_type": "code",
   "execution_count": 12,
   "metadata": {},
   "outputs": [],
   "source": [
    "data1=data.drop(['lat','ID'],axis=1) #unwanted columns removed"
   ]
  },
  {
   "cell_type": "code",
   "execution_count": 13,
   "metadata": {},
   "outputs": [],
   "source": [
    "#2-3\n",
    "data2=data1.drop('lon',axis=1)"
   ]
  },
  {
   "cell_type": "code",
   "execution_count": 14,
   "metadata": {},
   "outputs": [
    {
     "data": {
      "text/plain": [
       "(1538, 6)"
      ]
     },
     "execution_count": 14,
     "metadata": {},
     "output_type": "execute_result"
    }
   ],
   "source": [
    "data2.shape\n"
   ]
  },
  {
   "cell_type": "code",
   "execution_count": 15,
   "metadata": {},
   "outputs": [
    {
     "data": {
      "text/html": [
       "<div>\n",
       "<style scoped>\n",
       "    .dataframe tbody tr th:only-of-type {\n",
       "        vertical-align: middle;\n",
       "    }\n",
       "\n",
       "    .dataframe tbody tr th {\n",
       "        vertical-align: top;\n",
       "    }\n",
       "\n",
       "    .dataframe thead th {\n",
       "        text-align: right;\n",
       "    }\n",
       "</style>\n",
       "<table border=\"1\" class=\"dataframe\">\n",
       "  <thead>\n",
       "    <tr style=\"text-align: right;\">\n",
       "      <th></th>\n",
       "      <th>model</th>\n",
       "      <th>engine_power</th>\n",
       "      <th>age_in_days</th>\n",
       "      <th>km</th>\n",
       "      <th>previous_owners</th>\n",
       "      <th>price</th>\n",
       "    </tr>\n",
       "  </thead>\n",
       "  <tbody>\n",
       "    <tr>\n",
       "      <th>0</th>\n",
       "      <td>lounge</td>\n",
       "      <td>51</td>\n",
       "      <td>882</td>\n",
       "      <td>25000</td>\n",
       "      <td>1</td>\n",
       "      <td>8900</td>\n",
       "    </tr>\n",
       "    <tr>\n",
       "      <th>1</th>\n",
       "      <td>pop</td>\n",
       "      <td>51</td>\n",
       "      <td>1186</td>\n",
       "      <td>32500</td>\n",
       "      <td>1</td>\n",
       "      <td>8800</td>\n",
       "    </tr>\n",
       "    <tr>\n",
       "      <th>2</th>\n",
       "      <td>sport</td>\n",
       "      <td>74</td>\n",
       "      <td>4658</td>\n",
       "      <td>142228</td>\n",
       "      <td>1</td>\n",
       "      <td>4200</td>\n",
       "    </tr>\n",
       "  </tbody>\n",
       "</table>\n",
       "</div>"
      ],
      "text/plain": [
       "    model  engine_power  age_in_days      km  previous_owners  price\n",
       "0  lounge            51          882   25000                1   8900\n",
       "1     pop            51         1186   32500                1   8800\n",
       "2   sport            74         4658  142228                1   4200"
      ]
     },
     "execution_count": 15,
     "metadata": {},
     "output_type": "execute_result"
    }
   ],
   "source": [
    "data2.head(3)"
   ]
  },
  {
   "cell_type": "code",
   "execution_count": 16,
   "metadata": {},
   "outputs": [],
   "source": [
    "data2=a.get_dummies(data2,dtype=int)"
   ]
  },
  {
   "cell_type": "code",
   "execution_count": 17,
   "metadata": {},
   "outputs": [
    {
     "data": {
      "text/plain": [
       "(1538, 8)"
      ]
     },
     "execution_count": 17,
     "metadata": {},
     "output_type": "execute_result"
    }
   ],
   "source": [
    "#data2.groupby(['previous_owners'])\n",
    "data2.shape"
   ]
  },
  {
   "cell_type": "code",
   "execution_count": 18,
   "metadata": {},
   "outputs": [
    {
     "data": {
      "text/html": [
       "<div>\n",
       "<style scoped>\n",
       "    .dataframe tbody tr th:only-of-type {\n",
       "        vertical-align: middle;\n",
       "    }\n",
       "\n",
       "    .dataframe tbody tr th {\n",
       "        vertical-align: top;\n",
       "    }\n",
       "\n",
       "    .dataframe thead th {\n",
       "        text-align: right;\n",
       "    }\n",
       "</style>\n",
       "<table border=\"1\" class=\"dataframe\">\n",
       "  <thead>\n",
       "    <tr style=\"text-align: right;\">\n",
       "      <th></th>\n",
       "      <th>engine_power</th>\n",
       "      <th>age_in_days</th>\n",
       "      <th>km</th>\n",
       "      <th>previous_owners</th>\n",
       "      <th>price</th>\n",
       "      <th>model_lounge</th>\n",
       "      <th>model_pop</th>\n",
       "      <th>model_sport</th>\n",
       "    </tr>\n",
       "  </thead>\n",
       "  <tbody>\n",
       "    <tr>\n",
       "      <th>0</th>\n",
       "      <td>51</td>\n",
       "      <td>882</td>\n",
       "      <td>25000</td>\n",
       "      <td>1</td>\n",
       "      <td>8900</td>\n",
       "      <td>1</td>\n",
       "      <td>0</td>\n",
       "      <td>0</td>\n",
       "    </tr>\n",
       "    <tr>\n",
       "      <th>1</th>\n",
       "      <td>51</td>\n",
       "      <td>1186</td>\n",
       "      <td>32500</td>\n",
       "      <td>1</td>\n",
       "      <td>8800</td>\n",
       "      <td>0</td>\n",
       "      <td>1</td>\n",
       "      <td>0</td>\n",
       "    </tr>\n",
       "    <tr>\n",
       "      <th>2</th>\n",
       "      <td>74</td>\n",
       "      <td>4658</td>\n",
       "      <td>142228</td>\n",
       "      <td>1</td>\n",
       "      <td>4200</td>\n",
       "      <td>0</td>\n",
       "      <td>0</td>\n",
       "      <td>1</td>\n",
       "    </tr>\n",
       "  </tbody>\n",
       "</table>\n",
       "</div>"
      ],
      "text/plain": [
       "   engine_power  age_in_days      km  previous_owners  price  model_lounge  \\\n",
       "0            51          882   25000                1   8900             1   \n",
       "1            51         1186   32500                1   8800             0   \n",
       "2            74         4658  142228                1   4200             0   \n",
       "\n",
       "   model_pop  model_sport  \n",
       "0          0            0  \n",
       "1          1            0  \n",
       "2          0            1  "
      ]
     },
     "execution_count": 18,
     "metadata": {},
     "output_type": "execute_result"
    }
   ],
   "source": [
    "data2.head(3)"
   ]
  },
  {
   "cell_type": "code",
   "execution_count": 19,
   "metadata": {},
   "outputs": [],
   "source": [
    "y=data2['price']\n",
    "X=data2.drop('price',axis=1)\n"
   ]
  },
  {
   "cell_type": "code",
   "execution_count": 20,
   "metadata": {},
   "outputs": [
    {
     "data": {
      "text/plain": [
       "0       8900\n",
       "1       8800\n",
       "2       4200\n",
       "3       6000\n",
       "4       5700\n",
       "        ... \n",
       "1533    5200\n",
       "1534    4600\n",
       "1535    7500\n",
       "1536    5990\n",
       "1537    7900\n",
       "Name: price, Length: 1538, dtype: int64"
      ]
     },
     "execution_count": 20,
     "metadata": {},
     "output_type": "execute_result"
    }
   ],
   "source": [
    "y\n"
   ]
  },
  {
   "cell_type": "code",
   "execution_count": 21,
   "metadata": {},
   "outputs": [
    {
     "data": {
      "text/html": [
       "<div>\n",
       "<style scoped>\n",
       "    .dataframe tbody tr th:only-of-type {\n",
       "        vertical-align: middle;\n",
       "    }\n",
       "\n",
       "    .dataframe tbody tr th {\n",
       "        vertical-align: top;\n",
       "    }\n",
       "\n",
       "    .dataframe thead th {\n",
       "        text-align: right;\n",
       "    }\n",
       "</style>\n",
       "<table border=\"1\" class=\"dataframe\">\n",
       "  <thead>\n",
       "    <tr style=\"text-align: right;\">\n",
       "      <th></th>\n",
       "      <th>engine_power</th>\n",
       "      <th>age_in_days</th>\n",
       "      <th>km</th>\n",
       "      <th>previous_owners</th>\n",
       "      <th>model_lounge</th>\n",
       "      <th>model_pop</th>\n",
       "      <th>model_sport</th>\n",
       "    </tr>\n",
       "  </thead>\n",
       "  <tbody>\n",
       "    <tr>\n",
       "      <th>0</th>\n",
       "      <td>51</td>\n",
       "      <td>882</td>\n",
       "      <td>25000</td>\n",
       "      <td>1</td>\n",
       "      <td>1</td>\n",
       "      <td>0</td>\n",
       "      <td>0</td>\n",
       "    </tr>\n",
       "    <tr>\n",
       "      <th>1</th>\n",
       "      <td>51</td>\n",
       "      <td>1186</td>\n",
       "      <td>32500</td>\n",
       "      <td>1</td>\n",
       "      <td>0</td>\n",
       "      <td>1</td>\n",
       "      <td>0</td>\n",
       "    </tr>\n",
       "    <tr>\n",
       "      <th>2</th>\n",
       "      <td>74</td>\n",
       "      <td>4658</td>\n",
       "      <td>142228</td>\n",
       "      <td>1</td>\n",
       "      <td>0</td>\n",
       "      <td>0</td>\n",
       "      <td>1</td>\n",
       "    </tr>\n",
       "    <tr>\n",
       "      <th>3</th>\n",
       "      <td>51</td>\n",
       "      <td>2739</td>\n",
       "      <td>160000</td>\n",
       "      <td>1</td>\n",
       "      <td>1</td>\n",
       "      <td>0</td>\n",
       "      <td>0</td>\n",
       "    </tr>\n",
       "    <tr>\n",
       "      <th>4</th>\n",
       "      <td>73</td>\n",
       "      <td>3074</td>\n",
       "      <td>106880</td>\n",
       "      <td>1</td>\n",
       "      <td>0</td>\n",
       "      <td>1</td>\n",
       "      <td>0</td>\n",
       "    </tr>\n",
       "    <tr>\n",
       "      <th>...</th>\n",
       "      <td>...</td>\n",
       "      <td>...</td>\n",
       "      <td>...</td>\n",
       "      <td>...</td>\n",
       "      <td>...</td>\n",
       "      <td>...</td>\n",
       "      <td>...</td>\n",
       "    </tr>\n",
       "    <tr>\n",
       "      <th>1533</th>\n",
       "      <td>51</td>\n",
       "      <td>3712</td>\n",
       "      <td>115280</td>\n",
       "      <td>1</td>\n",
       "      <td>0</td>\n",
       "      <td>0</td>\n",
       "      <td>1</td>\n",
       "    </tr>\n",
       "    <tr>\n",
       "      <th>1534</th>\n",
       "      <td>74</td>\n",
       "      <td>3835</td>\n",
       "      <td>112000</td>\n",
       "      <td>1</td>\n",
       "      <td>1</td>\n",
       "      <td>0</td>\n",
       "      <td>0</td>\n",
       "    </tr>\n",
       "    <tr>\n",
       "      <th>1535</th>\n",
       "      <td>51</td>\n",
       "      <td>2223</td>\n",
       "      <td>60457</td>\n",
       "      <td>1</td>\n",
       "      <td>0</td>\n",
       "      <td>1</td>\n",
       "      <td>0</td>\n",
       "    </tr>\n",
       "    <tr>\n",
       "      <th>1536</th>\n",
       "      <td>51</td>\n",
       "      <td>2557</td>\n",
       "      <td>80750</td>\n",
       "      <td>1</td>\n",
       "      <td>1</td>\n",
       "      <td>0</td>\n",
       "      <td>0</td>\n",
       "    </tr>\n",
       "    <tr>\n",
       "      <th>1537</th>\n",
       "      <td>51</td>\n",
       "      <td>1766</td>\n",
       "      <td>54276</td>\n",
       "      <td>1</td>\n",
       "      <td>0</td>\n",
       "      <td>1</td>\n",
       "      <td>0</td>\n",
       "    </tr>\n",
       "  </tbody>\n",
       "</table>\n",
       "<p>1538 rows × 7 columns</p>\n",
       "</div>"
      ],
      "text/plain": [
       "      engine_power  age_in_days      km  previous_owners  model_lounge  \\\n",
       "0               51          882   25000                1             1   \n",
       "1               51         1186   32500                1             0   \n",
       "2               74         4658  142228                1             0   \n",
       "3               51         2739  160000                1             1   \n",
       "4               73         3074  106880                1             0   \n",
       "...            ...          ...     ...              ...           ...   \n",
       "1533            51         3712  115280                1             0   \n",
       "1534            74         3835  112000                1             1   \n",
       "1535            51         2223   60457                1             0   \n",
       "1536            51         2557   80750                1             1   \n",
       "1537            51         1766   54276                1             0   \n",
       "\n",
       "      model_pop  model_sport  \n",
       "0             0            0  \n",
       "1             1            0  \n",
       "2             0            1  \n",
       "3             0            0  \n",
       "4             1            0  \n",
       "...         ...          ...  \n",
       "1533          0            1  \n",
       "1534          0            0  \n",
       "1535          1            0  \n",
       "1536          0            0  \n",
       "1537          1            0  \n",
       "\n",
       "[1538 rows x 7 columns]"
      ]
     },
     "execution_count": 21,
     "metadata": {},
     "output_type": "execute_result"
    }
   ],
   "source": [
    "X"
   ]
  },
  {
   "cell_type": "code",
   "execution_count": 22,
   "metadata": {},
   "outputs": [],
   "source": [
    "from sklearn.model_selection import train_test_split\n",
    "X_train, X_test, y_train, y_test = train_test_split(X, y, test_size=0.33,random_state=49) #0.67 data will be for training.\n",
    "\n"
   ]
  },
  {
   "cell_type": "code",
   "execution_count": null,
   "metadata": {},
   "outputs": [],
   "source": []
  },
  {
   "cell_type": "code",
   "execution_count": 23,
   "metadata": {},
   "outputs": [
    {
     "data": {
      "text/html": [
       "<div>\n",
       "<style scoped>\n",
       "    .dataframe tbody tr th:only-of-type {\n",
       "        vertical-align: middle;\n",
       "    }\n",
       "\n",
       "    .dataframe tbody tr th {\n",
       "        vertical-align: top;\n",
       "    }\n",
       "\n",
       "    .dataframe thead th {\n",
       "        text-align: right;\n",
       "    }\n",
       "</style>\n",
       "<table border=\"1\" class=\"dataframe\">\n",
       "  <thead>\n",
       "    <tr style=\"text-align: right;\">\n",
       "      <th></th>\n",
       "      <th>engine_power</th>\n",
       "      <th>age_in_days</th>\n",
       "      <th>km</th>\n",
       "      <th>previous_owners</th>\n",
       "      <th>model_lounge</th>\n",
       "      <th>model_pop</th>\n",
       "      <th>model_sport</th>\n",
       "    </tr>\n",
       "  </thead>\n",
       "  <tbody>\n",
       "    <tr>\n",
       "      <th>776</th>\n",
       "      <td>51</td>\n",
       "      <td>762</td>\n",
       "      <td>17000</td>\n",
       "      <td>1</td>\n",
       "      <td>1</td>\n",
       "      <td>0</td>\n",
       "      <td>0</td>\n",
       "    </tr>\n",
       "    <tr>\n",
       "      <th>487</th>\n",
       "      <td>51</td>\n",
       "      <td>425</td>\n",
       "      <td>20636</td>\n",
       "      <td>1</td>\n",
       "      <td>1</td>\n",
       "      <td>0</td>\n",
       "      <td>0</td>\n",
       "    </tr>\n",
       "    <tr>\n",
       "      <th>1462</th>\n",
       "      <td>62</td>\n",
       "      <td>3470</td>\n",
       "      <td>90000</td>\n",
       "      <td>1</td>\n",
       "      <td>0</td>\n",
       "      <td>1</td>\n",
       "      <td>0</td>\n",
       "    </tr>\n",
       "    <tr>\n",
       "      <th>89</th>\n",
       "      <td>51</td>\n",
       "      <td>397</td>\n",
       "      <td>17912</td>\n",
       "      <td>1</td>\n",
       "      <td>1</td>\n",
       "      <td>0</td>\n",
       "      <td>0</td>\n",
       "    </tr>\n",
       "    <tr>\n",
       "      <th>852</th>\n",
       "      <td>51</td>\n",
       "      <td>1035</td>\n",
       "      <td>33000</td>\n",
       "      <td>1</td>\n",
       "      <td>1</td>\n",
       "      <td>0</td>\n",
       "      <td>0</td>\n",
       "    </tr>\n",
       "  </tbody>\n",
       "</table>\n",
       "</div>"
      ],
      "text/plain": [
       "      engine_power  age_in_days     km  previous_owners  model_lounge  \\\n",
       "776             51          762  17000                1             1   \n",
       "487             51          425  20636                1             1   \n",
       "1462            62         3470  90000                1             0   \n",
       "89              51          397  17912                1             1   \n",
       "852             51         1035  33000                1             1   \n",
       "\n",
       "      model_pop  model_sport  \n",
       "776           0            0  \n",
       "487           0            0  \n",
       "1462          1            0  \n",
       "89            0            0  \n",
       "852           0            0  "
      ]
     },
     "execution_count": 23,
     "metadata": {},
     "output_type": "execute_result"
    }
   ],
   "source": [
    "X_test.head(5)"
   ]
  },
  {
   "cell_type": "code",
   "execution_count": 24,
   "metadata": {},
   "outputs": [
    {
     "data": {
      "text/plain": [
       "(1030, 7)"
      ]
     },
     "execution_count": 24,
     "metadata": {},
     "output_type": "execute_result"
    }
   ],
   "source": [
    "X_train.shape"
   ]
  },
  {
   "cell_type": "code",
   "execution_count": 25,
   "metadata": {},
   "outputs": [
    {
     "data": {
      "text/plain": [
       "(1030,)"
      ]
     },
     "execution_count": 25,
     "metadata": {},
     "output_type": "execute_result"
    }
   ],
   "source": [
    "y_train.shape"
   ]
  },
  {
   "cell_type": "code",
   "execution_count": 26,
   "metadata": {},
   "outputs": [
    {
     "data": {
      "text/plain": [
       "LinearRegression()"
      ]
     },
     "execution_count": 26,
     "metadata": {},
     "output_type": "execute_result"
    }
   ],
   "source": [
    "\n",
    "\n",
    "\n",
    "\n",
    "from sklearn.linear_model import LinearRegression\n",
    "reg = LinearRegression() #creating object of LinearRegression\n",
    "reg.fit(X_train,y_train) #training and fitting LR object using training data"
   ]
  },
  {
   "cell_type": "code",
   "execution_count": 30,
   "metadata": {},
   "outputs": [],
   "source": [
    "\n",
    "\n",
    "#X_test=[[51,2197,70000,1,1,0,0],[51,3127,100000,1,1,0,0],[51,5227,175000,1,1,0,0]]"
   ]
  },
  {
   "cell_type": "code",
   "execution_count": 31,
   "metadata": {},
   "outputs": [],
   "source": [
    "#above line to actual"
   ]
  },
  {
   "cell_type": "code",
   "execution_count": 27,
   "metadata": {},
   "outputs": [],
   "source": [
    "ypred=reg.predict(X_test) "
   ]
  },
  {
   "cell_type": "code",
   "execution_count": 28,
   "metadata": {},
   "outputs": [
    {
     "data": {
      "text/plain": [
       "array([10077.0486545 , 10296.89113709,  6231.54053645, 10371.87050424,\n",
       "        9543.8908106 , 10311.36861938,  8883.57598947,  7157.79300792,\n",
       "        9944.27338867, 10426.6142839 ,  9912.02921839,  7492.70862718,\n",
       "        9882.00387912,  6645.64608231, 10333.80213676,  8020.94888715,\n",
       "       10228.57854658, 10530.25049259,  9188.10296552,  8658.91690616,\n",
       "        7685.86894274,  9410.15189019,  8825.54005856,  9911.92508766,\n",
       "       10103.04304765,  6699.79552359,  6254.1941181 ,  6353.64026044,\n",
       "        4685.57678728, 10147.55738739,  9412.7006505 ,  4999.96883869,\n",
       "        9396.11094252,  9701.00047514,  8245.07179202,  7014.74657124,\n",
       "        9855.0499626 ,  8022.65546956,  6202.74656775, 10387.44465039,\n",
       "        7477.65149429,  6555.14982661, 10368.68963757,  5057.57213783,\n",
       "        9652.3799067 ,  9312.51608202,  8642.27980214,  9966.91032444,\n",
       "        5663.75605319,  7526.68879785,  4958.61357652,  9346.67438618,\n",
       "       10022.93146835, 10140.06080681,  6436.7985707 ,  5851.7441137 ,\n",
       "        6827.22453472,  9850.66079486,  9880.32481877, 10437.9205592 ,\n",
       "        9556.18602801,  7858.22024074, 10284.19351479, 10377.9052516 ,\n",
       "        9964.8785774 ,  6982.85702955,  7664.86130973,  5224.84497605,\n",
       "       10013.44733777,  6661.7812147 ,  5396.11965442,  6361.46202604,\n",
       "        4401.88640849,  9772.32940609,  7414.07382234,  8897.76480227,\n",
       "        5273.593021  ,  7056.67723507,  6741.4936419 ,  7918.05381693,\n",
       "        5262.41488583,  6877.92504811,  6228.69809605,  8148.13997191,\n",
       "        7263.5409503 ,  7473.63513447,  9826.20224457,  8897.76480227,\n",
       "        9557.98317895,  9012.11120767, 10433.53601571,  6920.74758333,\n",
       "        7936.69809147,  7795.72328257,  9622.06761789,  9945.83776355,\n",
       "        9101.23004767,  8550.37389002,  9752.79218725,  6675.66063548,\n",
       "        5707.55785515,  9036.4887014 ,  9427.66803929,  9664.73672275,\n",
       "       10359.44492193, 10333.80213676, 10426.38938649, 10273.40271038,\n",
       "        8580.6495184 , 10245.37375553,  9460.08517598,  6903.0439201 ,\n",
       "        7759.02278758,  6308.83085321,  9973.98520286, 10182.60390159,\n",
       "        9311.53993102, 10312.75644294,  5084.71810292,  4206.10307695,\n",
       "       10375.87209307,  7835.20847593,  9829.10883449, 10071.04691043,\n",
       "        5449.23018415,  9662.94272348,  9702.35081579,  7467.37810164,\n",
       "        9501.86990917, 10369.86516893,  9101.74172436, 10023.162502  ,\n",
       "        4495.56790401,  8825.05826205,  9936.74106722,  7019.45945617,\n",
       "        9742.69668115,  9624.59771383,  4414.21892378, 10054.21095081,\n",
       "        6714.78810684,  9920.31907615,  9370.70092693,  6575.63342387,\n",
       "        6274.9133057 , 10281.46692255, 10340.50467635,  9116.64181116,\n",
       "        6948.55023069,  6980.50146676, 10124.22428034,  6866.52382434,\n",
       "       10509.16129574, 10151.68050671,  7005.03051233,  6153.8725305 ,\n",
       "       10065.98671854,  8797.24151621, 10560.73777011, 10369.1019495 ,\n",
       "        7726.96172248,  8635.11704424,  9644.45626512,  6394.57209121,\n",
       "        9932.73947838,  9811.65908623,  9762.77076504, 10358.00701025,\n",
       "        7139.13858818,  5029.24520368,  9100.61157977,  9880.51223329,\n",
       "        7939.71080918, 10384.27734509,  6683.49610315,  9952.09748542,\n",
       "        8842.70722808, 10076.08657336,  9912.93693368, 10357.28517541,\n",
       "        6365.74719808,  7171.88810656,  8060.13837244,  8250.76388839,\n",
       "        6787.4466476 ,  9739.00660461,  9969.09789418,  9789.77719657,\n",
       "        9495.26479954, 10339.08722606,  6625.36952009,  7061.57841357,\n",
       "        9623.64189981,  6921.78496788,  3232.37870456,  9398.0554513 ,\n",
       "        9952.09748542,  8484.3127639 , 10307.57376441, 10265.72223874,\n",
       "       10578.36841841,  9820.47370464,  9952.09748542, 10248.76122518,\n",
       "        8821.39177649,  9734.29142913, 10031.45588321,  9931.61250109,\n",
       "       10379.81687965,  7708.65477476,  9791.21369676, 10064.18293703,\n",
       "        9436.0295791 , 10487.04638303,  4829.05570411,  6049.1016172 ,\n",
       "       10090.60390397,  4256.46791286,  8048.81596848,  7254.09460377,\n",
       "        8691.08558652,  7015.36320392,  4565.8697124 ,  6537.07872561,\n",
       "        9763.71845344,  7358.30746556,  5390.16165428,  7299.4887424 ,\n",
       "       10204.74382286,  8559.91112305,  9791.21369676, 10440.32854676,\n",
       "        9252.31565776, 10291.62478924,  9111.77816936,  8083.26519264,\n",
       "        9952.09748542,  9625.1922602 ,  5447.67746443,  9880.27485544,\n",
       "        9782.22439163,  9503.91964339,  6434.64936292,  9644.45626512,\n",
       "        7099.76674587, 10502.1894758 ,  8699.65825429, 10337.99114011,\n",
       "       10348.65316137,  6964.73698525,  6148.81405855,  9012.11120767,\n",
       "        6436.17574567,  8825.54005856, 10353.63154853,  9643.49204243,\n",
       "        9952.09748542,  6948.39355333, 10581.4032754 ,  6752.3282492 ,\n",
       "        5509.92811393, 10453.58841261,  5626.50283578,  9992.28093873,\n",
       "       10248.70500083,  5428.71684814,  6738.66197155,  6716.0887264 ,\n",
       "        7754.28298788,  4756.91807609,  4603.09010115,  9343.94440138,\n",
       "       10167.73853803,  8656.5851236 , 10404.97756716, 10298.56820804,\n",
       "       10491.35691687,  9037.61832309, 10151.05237913,  5114.62804797,\n",
       "        9872.52497631,  9841.51127284,  9820.82071044, 10102.57790392,\n",
       "        9063.50180159,  6798.87443119,  9267.77582114, 10133.96318853,\n",
       "        9999.5061881 ,  8565.19548027,  7722.12567984, 10055.36479518,\n",
       "        9712.98534438,  7611.7711265 , 10395.12607818,  9620.19347274,\n",
       "        9398.9675153 , 10369.95439659,  9775.03622363,  9593.02752701,\n",
       "        7201.09750911,  9662.68748325,  4847.46205228,  6477.93510047,\n",
       "       10122.29051828,  9930.32823682,  9313.67355864,  5895.44822231,\n",
       "        9048.63348639,  9863.08716305,  6727.69792206,  6512.6845661 ,\n",
       "        5957.29501208,  5191.95679688,  8542.59963404,  9688.85875217,\n",
       "        5850.20848648,  9977.62429844,  9682.0422519 , 10185.40111091,\n",
       "        9704.82543556,  9799.8616315 , 10243.13878975,  6794.12141897,\n",
       "        8314.39015989,  7762.96669509,  9742.69668115,  4332.51396391,\n",
       "       10512.71079189, 10465.4840542 , 10112.91071079,  9912.02921839,\n",
       "       10405.83001425, 10482.72618952,  7868.62760577,  9677.85573876,\n",
       "       10452.93694141,  6334.25148463, 10395.32124007,  7925.92062132,\n",
       "        7686.86804535,  9989.14676763,  6910.58754398,  9904.74787555,\n",
       "        9925.10262587,  5769.52460242,  4747.64113472,  6678.45970331,\n",
       "        9997.75645567,  9977.82079473,  9894.03589094, 10244.83646675,\n",
       "       10359.41261911, 10077.18502473, 10155.56395642,  9844.41006158,\n",
       "        9671.63971311,  8846.10235163,  6707.97759632,  8663.72211126,\n",
       "       10395.12607818,  9756.49947118, 10527.82548352,  8389.29199393,\n",
       "        5680.6830438 ,  7682.91650384, 10226.09501531, 10395.39620588,\n",
       "        6511.28708977,  4368.05713248, 10291.94339391,  9237.16308169,\n",
       "       10406.76536688, 10358.00701025,  6463.65823191, 10260.36691668,\n",
       "       10546.64419862, 10341.1209625 ,  8441.73935569,  5620.43361035,\n",
       "        9742.06913148, 10432.28846409,  9898.57368152,  6687.31099545,\n",
       "        5449.30701456,  9662.27275819,  7388.84124404,  8872.79965489,\n",
       "        8785.05852344,  7720.78580083,  9269.41043103,  9046.45122031,\n",
       "        9723.11282054,  9850.64744146, 10183.79170541,  5082.22786482,\n",
       "        4829.05570411,  9716.32944836,  7935.96816077, 10468.57191408,\n",
       "        7220.86489162,  6132.1047393 ,  5679.60112901,  9880.27485544,\n",
       "        6932.31134191, 10164.44004258,  7309.61717471,  6448.30264497,\n",
       "        9930.40396642,  9510.27299543, 10073.48329912,  9750.04677648,\n",
       "       10353.35395021,  6321.31286784,  7711.80067415,  5725.13591781,\n",
       "       10062.05549334,  9937.48010945,  7075.16435472,  9762.09760684,\n",
       "        8920.1484395 ,  7347.44629752,  6773.49287052,  4289.71938476,\n",
       "        6587.8866172 , 10322.78216331,  8602.2243167 ,  9641.29634707,\n",
       "        4991.00005762, 10394.7680783 ,  5477.10493576,  9318.99339328,\n",
       "        8969.98448728, 10054.81067725,  9027.45307896,  7810.04203451,\n",
       "        9066.51469567,  7959.99454088,  9851.71570419, 10470.01040367,\n",
       "       10413.55885407,  7714.59974198,  9612.57926338,  9966.27606064,\n",
       "        9414.81272201,  9741.77374786,  4781.84518595,  8523.48845655,\n",
       "        6275.16403695,  9821.85149027,  8040.51167027,  7118.32222368,\n",
       "       10002.08284872,  8100.67364171,  5884.01603011,  8531.33485759,\n",
       "        9816.35058532,  9037.0576136 ,  9488.6399785 ,  7114.18236839,\n",
       "       10350.77728959,  9878.79909092, 10353.7850036 ,  9383.86555836,\n",
       "        7525.1903001 ,  6598.97578895,  8933.03394775, 10132.83038346,\n",
       "        9871.62264908, 10090.63959936,  9108.26732791,  9171.65615057,\n",
       "        5928.70196285,  5598.4103406 ,  9722.5683623 ,  4476.21769815,\n",
       "        3280.24241805,  9905.33852022,  9536.10050303, 10047.31563073,\n",
       "        6583.25056268, 10140.95700392,  8756.70270741,  6762.15097693,\n",
       "        9715.7748751 ,  9577.97338515,  9712.28378506,  8334.56952302,\n",
       "        9810.06606286, 10364.14902624,  9058.14123004,  8834.05672604,\n",
       "       10165.81156109,  9780.46422926,  9702.35081579,  6519.29507068,\n",
       "        9836.19164617, 10022.35048335,  9724.61470396,  9913.73315641,\n",
       "        7849.13469923, 10488.45199189,  7745.18732479,  8388.7875088 ,\n",
       "       10322.537953  ,  7570.91612614,  9239.03071235, 10439.86449007])"
      ]
     },
     "execution_count": 28,
     "metadata": {},
     "output_type": "execute_result"
    }
   ],
   "source": [
    "ypred"
   ]
  },
  {
   "cell_type": "code",
   "execution_count": 29,
   "metadata": {},
   "outputs": [],
   "source": [
    "filename='dummymodel'             \n",
    "pickle.dump(reg,open(filename,'wb'))"
   ]
  },
  {
   "cell_type": "code",
   "execution_count": 35,
   "metadata": {},
   "outputs": [],
   "source": [
    "#savedmodel=pickle.load(open(filename,'rb'))\n",
    "\n",
    "#X_test=[[1,75,1062,8000,1]]\n",
    "#savedmodel.predict(X_test)"
   ]
  },
  {
   "cell_type": "code",
   "execution_count": 36,
   "metadata": {},
   "outputs": [
    {
     "data": {
      "text/plain": [
       "0.8432871743994133"
      ]
     },
     "execution_count": 36,
     "metadata": {},
     "output_type": "execute_result"
    }
   ],
   "source": [
    "from sklearn.metrics import r2_score\n",
    "r2_score(y_test,ypred)"
   ]
  },
  {
   "cell_type": "code",
   "execution_count": null,
   "metadata": {},
   "outputs": [],
   "source": []
  },
  {
   "cell_type": "code",
   "execution_count": 37,
   "metadata": {},
   "outputs": [
    {
     "data": {
      "text/plain": [
       "577671.0281058006"
      ]
     },
     "execution_count": 37,
     "metadata": {},
     "output_type": "execute_result"
    }
   ],
   "source": [
    "from sklearn.metrics import mean_squared_error #calculating MSE\n",
    "mean_squared_error(ypred,y_test)"
   ]
  },
  {
   "cell_type": "code",
   "execution_count": 38,
   "metadata": {},
   "outputs": [],
   "source": []
  },
  {
   "cell_type": "code",
   "execution_count": 39,
   "metadata": {},
   "outputs": [
    {
     "data": {
      "text/html": [
       "<div>\n",
       "<style scoped>\n",
       "    .dataframe tbody tr th:only-of-type {\n",
       "        vertical-align: middle;\n",
       "    }\n",
       "\n",
       "    .dataframe tbody tr th {\n",
       "        vertical-align: top;\n",
       "    }\n",
       "\n",
       "    .dataframe thead th {\n",
       "        text-align: right;\n",
       "    }\n",
       "</style>\n",
       "<table border=\"1\" class=\"dataframe\">\n",
       "  <thead>\n",
       "    <tr style=\"text-align: right;\">\n",
       "      <th></th>\n",
       "      <th>index</th>\n",
       "      <th>Price</th>\n",
       "      <th>Predicted</th>\n",
       "      <th>Id</th>\n",
       "    </tr>\n",
       "  </thead>\n",
       "  <tbody>\n",
       "    <tr>\n",
       "      <th>0</th>\n",
       "      <td>776</td>\n",
       "      <td>9850</td>\n",
       "      <td>10077.048654</td>\n",
       "      <td>0</td>\n",
       "    </tr>\n",
       "    <tr>\n",
       "      <th>1</th>\n",
       "      <td>487</td>\n",
       "      <td>10650</td>\n",
       "      <td>10296.891137</td>\n",
       "      <td>1</td>\n",
       "    </tr>\n",
       "    <tr>\n",
       "      <th>2</th>\n",
       "      <td>1462</td>\n",
       "      <td>5199</td>\n",
       "      <td>6231.540536</td>\n",
       "      <td>2</td>\n",
       "    </tr>\n",
       "    <tr>\n",
       "      <th>3</th>\n",
       "      <td>89</td>\n",
       "      <td>9970</td>\n",
       "      <td>10371.870504</td>\n",
       "      <td>3</td>\n",
       "    </tr>\n",
       "    <tr>\n",
       "      <th>4</th>\n",
       "      <td>852</td>\n",
       "      <td>9999</td>\n",
       "      <td>9543.890811</td>\n",
       "      <td>4</td>\n",
       "    </tr>\n",
       "    <tr>\n",
       "      <th>5</th>\n",
       "      <td>12</td>\n",
       "      <td>9700</td>\n",
       "      <td>10311.368619</td>\n",
       "      <td>5</td>\n",
       "    </tr>\n",
       "    <tr>\n",
       "      <th>6</th>\n",
       "      <td>353</td>\n",
       "      <td>8900</td>\n",
       "      <td>8883.575989</td>\n",
       "      <td>6</td>\n",
       "    </tr>\n",
       "    <tr>\n",
       "      <th>7</th>\n",
       "      <td>76</td>\n",
       "      <td>7900</td>\n",
       "      <td>7157.793008</td>\n",
       "      <td>7</td>\n",
       "    </tr>\n",
       "    <tr>\n",
       "      <th>8</th>\n",
       "      <td>633</td>\n",
       "      <td>8900</td>\n",
       "      <td>9944.273389</td>\n",
       "      <td>8</td>\n",
       "    </tr>\n",
       "    <tr>\n",
       "      <th>9</th>\n",
       "      <td>181</td>\n",
       "      <td>10950</td>\n",
       "      <td>10426.614284</td>\n",
       "      <td>9</td>\n",
       "    </tr>\n",
       "    <tr>\n",
       "      <th>10</th>\n",
       "      <td>1111</td>\n",
       "      <td>10800</td>\n",
       "      <td>9912.029218</td>\n",
       "      <td>10</td>\n",
       "    </tr>\n",
       "    <tr>\n",
       "      <th>11</th>\n",
       "      <td>368</td>\n",
       "      <td>5990</td>\n",
       "      <td>7492.708627</td>\n",
       "      <td>11</td>\n",
       "    </tr>\n",
       "    <tr>\n",
       "      <th>12</th>\n",
       "      <td>1298</td>\n",
       "      <td>9400</td>\n",
       "      <td>9882.003879</td>\n",
       "      <td>12</td>\n",
       "    </tr>\n",
       "    <tr>\n",
       "      <th>13</th>\n",
       "      <td>1361</td>\n",
       "      <td>7490</td>\n",
       "      <td>6645.646082</td>\n",
       "      <td>13</td>\n",
       "    </tr>\n",
       "    <tr>\n",
       "      <th>14</th>\n",
       "      <td>713</td>\n",
       "      <td>9890</td>\n",
       "      <td>10333.802137</td>\n",
       "      <td>14</td>\n",
       "    </tr>\n",
       "  </tbody>\n",
       "</table>\n",
       "</div>"
      ],
      "text/plain": [
       "    index  Price     Predicted  Id\n",
       "0     776   9850  10077.048654   0\n",
       "1     487  10650  10296.891137   1\n",
       "2    1462   5199   6231.540536   2\n",
       "3      89   9970  10371.870504   3\n",
       "4     852   9999   9543.890811   4\n",
       "5      12   9700  10311.368619   5\n",
       "6     353   8900   8883.575989   6\n",
       "7      76   7900   7157.793008   7\n",
       "8     633   8900   9944.273389   8\n",
       "9     181  10950  10426.614284   9\n",
       "10   1111  10800   9912.029218  10\n",
       "11    368   5990   7492.708627  11\n",
       "12   1298   9400   9882.003879  12\n",
       "13   1361   7490   6645.646082  13\n",
       "14    713   9890  10333.802137  14"
      ]
     },
     "execution_count": 39,
     "metadata": {},
     "output_type": "execute_result"
    }
   ],
   "source": [
    "#Results= pd.DataFrame(columns=['Actual','Predicted'])\n",
    "#Results['Actual']=y_test\n",
    "Results= a.DataFrame(columns=['Price','Predicted'])\n",
    "Results['Price']=y_test\n",
    "Results['Predicted']=ypred\n",
    "#Results['km']=X_test['km']\n",
    "Results=Results.reset_index()\n",
    "Results['Id']=Results.index\n",
    "Results.head(15)"
   ]
  },
  {
   "cell_type": "code",
   "execution_count": 44,
   "metadata": {},
   "outputs": [
    {
     "data": {
      "text/plain": [
       "[]"
      ]
     },
     "execution_count": 44,
     "metadata": {},
     "output_type": "execute_result"
    },
    {
     "data": {
      "image/png": "[encoded data removed]",
      "text/plain": [
       "<Figure size 432x288 with 1 Axes>"
      ]
     },
     "metadata": {
      "needs_background": "light"
     },
     "output_type": "display_data"
    }
   ],
   "source": [
    "import seaborn as sns\n",
    "import matplotlib.pyplot as plt\n",
    "sns.lineplot(x='Id',y='Price',data=Results.head(50))\n",
    "sns.lineplot(x='Id',y='Predicted',data=Results.head(50))\n",
    "plt.plot()"
   ]
  },
  {
   "cell_type": "code",
   "execution_count": 41,
   "metadata": {},
   "outputs": [
    {
     "data": {
      "text/plain": [
       "[]"
      ]
     },
     "execution_count": 41,
     "metadata": {},
     "output_type": "execute_result"
    },
    {
     "data": {
      "image/png": "[encoded data removed]",
      "text/plain": [
       "<Figure size 432x288 with 1 Axes>"
      ]
     },
     "metadata": {
      "needs_background": "light"
     },
     "output_type": "display_data"
    }
   ],
   "source": [
    "import seaborn as sns\n",
    "import matplotlib.pyplot as plt\n",
    "\n",
    "sns.lineplot(x='Id',y='Price',data=Results.tail(50))\n",
    "sns.lineplot(x='Id',y='Predicted',data=Results.tail(50))\n",
    "plt.plot()"
   ]
  },
  {
   "cell_type": "markdown",
   "metadata": {},
   "source": [
    "# this is for prediction of a new veicle with spec"
   ]
  },
  {
   "cell_type": "code",
   "execution_count": 53,
   "metadata": {},
   "outputs": [],
   "source": [
    "new=[[51,2197,70000,1,1,0,0]]"
   ]
  },
  {
   "cell_type": "code",
   "execution_count": 54,
   "metadata": {},
   "outputs": [],
   "source": [
    "real=reg.predict(new)"
   ]
  },
  {
   "cell_type": "code",
   "execution_count": 55,
   "metadata": {},
   "outputs": [
    {
     "data": {
      "text/plain": [
       "array([7857.45949044])"
      ]
     },
     "execution_count": 55,
     "metadata": {},
     "output_type": "execute_result"
    }
   ],
   "source": [
    "real"
   ]
  },
  {
   "cell_type": "raw",
   "metadata": {},
   "source": []
  },
  {
   "cell_type": "code",
   "execution_count": 106,
   "metadata": {},
   "outputs": [],
   "source": [
    "# ridge regression"
   ]
  },
  {
   "cell_type": "code",
   "execution_count": 107,
   "metadata": {},
   "outputs": [
    {
     "data": {
      "text/plain": [
       "GridSearchCV(estimator=Ridge(),\n",
       "             param_grid={'alpha': [1e-15, 1e-10, 1e-08, 0.0001, 0.001, 0.01, 1,\n",
       "                                   5, 10, 20, 30]})"
      ]
     },
     "execution_count": 107,
     "metadata": {},
     "output_type": "execute_result"
    }
   ],
   "source": [
    "from sklearn.model_selection import GridSearchCV\n",
    "#from sklearn.grid_search import GridSearchCV\n",
    "\n",
    "\n",
    "from sklearn.linear_model import Ridge\n",
    "\n",
    "alpha = [1e-15, 1e-10, 1e-8, 1e-4, 1e-3,1e-2, 1, 5, 10, 20,30]\n",
    "\n",
    "ridge = Ridge()\n",
    "\n",
    "parameters = {'alpha': alpha}\n",
    "\n",
    "ridge_regressor = GridSearchCV(ridge, parameters)\n",
    "\n",
    "ridge_regressor.fit(X_train, y_train)"
   ]
  },
  {
   "cell_type": "code",
   "execution_count": 108,
   "metadata": {},
   "outputs": [
    {
     "data": {
      "text/plain": [
       "{'alpha': 30}"
      ]
     },
     "execution_count": 108,
     "metadata": {},
     "output_type": "execute_result"
    }
   ],
   "source": [
    "ridge_regressor.best_params_"
   ]
  },
  {
   "cell_type": "code",
   "execution_count": 109,
   "metadata": {},
   "outputs": [],
   "source": [
    "#X_train=[2]"
   ]
  },
  {
   "cell_type": "code",
   "execution_count": 110,
   "metadata": {},
   "outputs": [],
   "source": [
    "ridge=Ridge(alpha=30)\n",
    "ridge.fit(X_train,y_train)\n",
    "y_pred_ridge=ridge.predict(X_test)"
   ]
  },
  {
   "cell_type": "code",
   "execution_count": 111,
   "metadata": {},
   "outputs": [
    {
     "data": {
      "text/plain": [
       "579521.7970897449"
      ]
     },
     "execution_count": 111,
     "metadata": {},
     "output_type": "execute_result"
    }
   ],
   "source": [
    "from sklearn.metrics import mean_squared_error\n",
    "Ridge_Error=mean_squared_error(y_pred_ridge,y_test)\n",
    "Ridge_Error"
   ]
  },
  {
   "cell_type": "code",
   "execution_count": 112,
   "metadata": {},
   "outputs": [
    {
     "data": {
      "text/plain": [
       "0.8421969385523054"
      ]
     },
     "execution_count": 112,
     "metadata": {},
     "output_type": "execute_result"
    }
   ],
   "source": [
    "from sklearn.metrics import r2_score\n",
    "r2_score(y_test,y_pred_ridge)\n"
   ]
  },
  {
   "cell_type": "code",
   "execution_count": 113,
   "metadata": {},
   "outputs": [
    {
     "data": {
      "text/html": [
       "<div>\n",
       "<style scoped>\n",
       "    .dataframe tbody tr th:only-of-type {\n",
       "        vertical-align: middle;\n",
       "    }\n",
       "\n",
       "    .dataframe tbody tr th {\n",
       "        vertical-align: top;\n",
       "    }\n",
       "\n",
       "    .dataframe thead th {\n",
       "        text-align: right;\n",
       "    }\n",
       "</style>\n",
       "<table border=\"1\" class=\"dataframe\">\n",
       "  <thead>\n",
       "    <tr style=\"text-align: right;\">\n",
       "      <th></th>\n",
       "      <th>index</th>\n",
       "      <th>Actual</th>\n",
       "      <th>Predicted</th>\n",
       "      <th>Id</th>\n",
       "    </tr>\n",
       "  </thead>\n",
       "  <tbody>\n",
       "    <tr>\n",
       "      <th>0</th>\n",
       "      <td>481</td>\n",
       "      <td>7900</td>\n",
       "      <td>5869.741155</td>\n",
       "      <td>0</td>\n",
       "    </tr>\n",
       "    <tr>\n",
       "      <th>1</th>\n",
       "      <td>76</td>\n",
       "      <td>7900</td>\n",
       "      <td>7149.563327</td>\n",
       "      <td>1</td>\n",
       "    </tr>\n",
       "    <tr>\n",
       "      <th>2</th>\n",
       "      <td>1502</td>\n",
       "      <td>9400</td>\n",
       "      <td>9862.785355</td>\n",
       "      <td>2</td>\n",
       "    </tr>\n",
       "    <tr>\n",
       "      <th>3</th>\n",
       "      <td>669</td>\n",
       "      <td>8500</td>\n",
       "      <td>9719.283532</td>\n",
       "      <td>3</td>\n",
       "    </tr>\n",
       "    <tr>\n",
       "      <th>4</th>\n",
       "      <td>1409</td>\n",
       "      <td>9700</td>\n",
       "      <td>10035.895686</td>\n",
       "      <td>4</td>\n",
       "    </tr>\n",
       "    <tr>\n",
       "      <th>5</th>\n",
       "      <td>1414</td>\n",
       "      <td>9900</td>\n",
       "      <td>9650.311090</td>\n",
       "      <td>5</td>\n",
       "    </tr>\n",
       "    <tr>\n",
       "      <th>6</th>\n",
       "      <td>1089</td>\n",
       "      <td>9900</td>\n",
       "      <td>9669.183317</td>\n",
       "      <td>6</td>\n",
       "    </tr>\n",
       "    <tr>\n",
       "      <th>7</th>\n",
       "      <td>1507</td>\n",
       "      <td>9950</td>\n",
       "      <td>10115.128380</td>\n",
       "      <td>7</td>\n",
       "    </tr>\n",
       "    <tr>\n",
       "      <th>8</th>\n",
       "      <td>970</td>\n",
       "      <td>10700</td>\n",
       "      <td>9900.241944</td>\n",
       "      <td>8</td>\n",
       "    </tr>\n",
       "    <tr>\n",
       "      <th>9</th>\n",
       "      <td>1198</td>\n",
       "      <td>8999</td>\n",
       "      <td>9347.080772</td>\n",
       "      <td>9</td>\n",
       "    </tr>\n",
       "  </tbody>\n",
       "</table>\n",
       "</div>"
      ],
      "text/plain": [
       "   index  Actual     Predicted  Id\n",
       "0    481    7900   5869.741155   0\n",
       "1     76    7900   7149.563327   1\n",
       "2   1502    9400   9862.785355   2\n",
       "3    669    8500   9719.283532   3\n",
       "4   1409    9700  10035.895686   4\n",
       "5   1414    9900   9650.311090   5\n",
       "6   1089    9900   9669.183317   6\n",
       "7   1507    9950  10115.128380   7\n",
       "8    970   10700   9900.241944   8\n",
       "9   1198    8999   9347.080772   9"
      ]
     },
     "execution_count": 113,
     "metadata": {},
     "output_type": "execute_result"
    }
   ],
   "source": [
    "Results= a.DataFrame(columns=['Actual','Predicted'])\n",
    "Results['Actual']=y_test\n",
    "Results['Predicted']=y_pred_ridge\n",
    "#Results['km']=X_test['km']\n",
    "Results=Results.reset_index()\n",
    "Results['Id']=Results.index\n",
    "Results.head(10)"
   ]
  },
  {
   "cell_type": "code",
   "execution_count": 114,
   "metadata": {},
   "outputs": [
    {
     "data": {
      "text/plain": [
       "[]"
      ]
     },
     "execution_count": 114,
     "metadata": {},
     "output_type": "execute_result"
    },
    {
     "data": {
      "image/png": "[encoded data removed]",
      "text/plain": [
       "<Figure size 432x288 with 1 Axes>"
      ]
     },
     "metadata": {
      "needs_background": "light"
     },
     "output_type": "display_data"
    }
   ],
   "source": [
    "sns.lineplot(x='Id',y='Actual',data=Results.head(50))\n",
    "sns.lineplot(x='Id',y='Predicted',data=Results.head(50))\n",
    "plt.plot()"
   ]
  },
  {
   "cell_type": "code",
   "execution_count": 115,
   "metadata": {},
   "outputs": [
    {
     "data": {
      "text/plain": [
       "[]"
      ]
     },
     "execution_count": 115,
     "metadata": {},
     "output_type": "execute_result"
    },
    {
     "data": {
      "image/png": "[encoded data removed]",
      "text/plain": [
       "<Figure size 432x288 with 1 Axes>"
      ]
     },
     "metadata": {
      "needs_background": "light"
     },
     "output_type": "display_data"
    }
   ],
   "source": [
    "sns.lineplot(x='Id',y='Actual',data=Results.tail(50))\n",
    "sns.lineplot(x='Id',y='Predicted',data=Results.tail(50))\n",
    "plt.plot()"
   ]
  },
  {
   "cell_type": "code",
   "execution_count": 116,
   "metadata": {},
   "outputs": [],
   "source": [
    "#elastic"
   ]
  },
  {
   "cell_type": "code",
   "execution_count": 117,
   "metadata": {},
   "outputs": [
    {
     "data": {
      "text/plain": [
       "GridSearchCV(estimator=ElasticNet(),\n",
       "             param_grid={'alpha': [1e-15, 1e-10, 1e-08, 0.0001, 0.001, 0.01, 1,\n",
       "                                   5, 10, 20]})"
      ]
     },
     "execution_count": 117,
     "metadata": {},
     "output_type": "execute_result"
    }
   ],
   "source": [
    "from sklearn.linear_model import ElasticNet\n",
    "\n",
    "elastic = ElasticNet()\n",
    "\n",
    "parameters = {'alpha': [1e-15, 1e-10, 1e-8, 1e-4, 1e-3,1e-2, 1, 5, 10, 20]}\n",
    "\n",
    "elastic_regressor = GridSearchCV(elastic, parameters)\n",
    "\n",
    "elastic_regressor.fit(X_train, y_train)"
   ]
  },
  {
   "cell_type": "code",
   "execution_count": 118,
   "metadata": {},
   "outputs": [
    {
     "data": {
      "text/plain": [
       "{'alpha': 0.01}"
      ]
     },
     "execution_count": 118,
     "metadata": {},
     "output_type": "execute_result"
    }
   ],
   "source": [
    "elastic_regressor.best_params_"
   ]
  },
  {
   "cell_type": "code",
   "execution_count": 119,
   "metadata": {},
   "outputs": [],
   "source": [
    "elastic=ElasticNet(alpha=.01)\n",
    "elastic.fit(X_train,y_train)\n",
    "y_pred_elastic=elastic.predict(X_test)"
   ]
  },
  {
   "cell_type": "code",
   "execution_count": 120,
   "metadata": {},
   "outputs": [
    {
     "data": {
      "text/plain": [
       "0.841688021120299"
      ]
     },
     "execution_count": 120,
     "metadata": {},
     "output_type": "execute_result"
    }
   ],
   "source": [
    "from sklearn.metrics import r2_score\n",
    "r2_score(y_test,y_pred_elastic)"
   ]
  },
  {
   "cell_type": "code",
   "execution_count": 121,
   "metadata": {},
   "outputs": [
    {
     "data": {
      "text/plain": [
       "581390.7642825295"
      ]
     },
     "execution_count": 121,
     "metadata": {},
     "output_type": "execute_result"
    }
   ],
   "source": [
    "elastic_Error=mean_squared_error(y_pred_elastic,y_test)\n",
    "elastic_Error"
   ]
  },
  {
   "cell_type": "code",
   "execution_count": 122,
   "metadata": {},
   "outputs": [
    {
     "data": {
      "text/html": [
       "<div>\n",
       "<style scoped>\n",
       "    .dataframe tbody tr th:only-of-type {\n",
       "        vertical-align: middle;\n",
       "    }\n",
       "\n",
       "    .dataframe tbody tr th {\n",
       "        vertical-align: top;\n",
       "    }\n",
       "\n",
       "    .dataframe thead th {\n",
       "        text-align: right;\n",
       "    }\n",
       "</style>\n",
       "<table border=\"1\" class=\"dataframe\">\n",
       "  <thead>\n",
       "    <tr style=\"text-align: right;\">\n",
       "      <th></th>\n",
       "      <th>index</th>\n",
       "      <th>Actual</th>\n",
       "      <th>Predicted</th>\n",
       "      <th>Id</th>\n",
       "    </tr>\n",
       "  </thead>\n",
       "  <tbody>\n",
       "    <tr>\n",
       "      <th>0</th>\n",
       "      <td>481</td>\n",
       "      <td>7900</td>\n",
       "      <td>5867.742075</td>\n",
       "      <td>0</td>\n",
       "    </tr>\n",
       "    <tr>\n",
       "      <th>1</th>\n",
       "      <td>76</td>\n",
       "      <td>7900</td>\n",
       "      <td>7136.527402</td>\n",
       "      <td>1</td>\n",
       "    </tr>\n",
       "    <tr>\n",
       "      <th>2</th>\n",
       "      <td>1502</td>\n",
       "      <td>9400</td>\n",
       "      <td>9865.726723</td>\n",
       "      <td>2</td>\n",
       "    </tr>\n",
       "    <tr>\n",
       "      <th>3</th>\n",
       "      <td>669</td>\n",
       "      <td>8500</td>\n",
       "      <td>9722.573593</td>\n",
       "      <td>3</td>\n",
       "    </tr>\n",
       "    <tr>\n",
       "      <th>4</th>\n",
       "      <td>1409</td>\n",
       "      <td>9700</td>\n",
       "      <td>10038.936496</td>\n",
       "      <td>4</td>\n",
       "    </tr>\n",
       "    <tr>\n",
       "      <th>5</th>\n",
       "      <td>1414</td>\n",
       "      <td>9900</td>\n",
       "      <td>9653.407122</td>\n",
       "      <td>5</td>\n",
       "    </tr>\n",
       "    <tr>\n",
       "      <th>6</th>\n",
       "      <td>1089</td>\n",
       "      <td>9900</td>\n",
       "      <td>9672.438692</td>\n",
       "      <td>6</td>\n",
       "    </tr>\n",
       "    <tr>\n",
       "      <th>7</th>\n",
       "      <td>1507</td>\n",
       "      <td>9950</td>\n",
       "      <td>10118.075470</td>\n",
       "      <td>7</td>\n",
       "    </tr>\n",
       "    <tr>\n",
       "      <th>8</th>\n",
       "      <td>970</td>\n",
       "      <td>10700</td>\n",
       "      <td>9903.219809</td>\n",
       "      <td>8</td>\n",
       "    </tr>\n",
       "    <tr>\n",
       "      <th>9</th>\n",
       "      <td>1198</td>\n",
       "      <td>8999</td>\n",
       "      <td>9350.750929</td>\n",
       "      <td>9</td>\n",
       "    </tr>\n",
       "  </tbody>\n",
       "</table>\n",
       "</div>"
      ],
      "text/plain": [
       "   index  Actual     Predicted  Id\n",
       "0    481    7900   5867.742075   0\n",
       "1     76    7900   7136.527402   1\n",
       "2   1502    9400   9865.726723   2\n",
       "3    669    8500   9722.573593   3\n",
       "4   1409    9700  10038.936496   4\n",
       "5   1414    9900   9653.407122   5\n",
       "6   1089    9900   9672.438692   6\n",
       "7   1507    9950  10118.075470   7\n",
       "8    970   10700   9903.219809   8\n",
       "9   1198    8999   9350.750929   9"
      ]
     },
     "execution_count": 122,
     "metadata": {},
     "output_type": "execute_result"
    }
   ],
   "source": [
    "Results= a.DataFrame(columns=['Actual','Predicted'])\n",
    "Results['Actual']=y_test\n",
    "Results['Predicted']=y_pred_elastic\n",
    "#Results['km']=X_test['km']\n",
    "Results=Results.reset_index()\n",
    "Results['Id']=Results.index\n",
    "Results.head(10)"
   ]
  },
  {
   "cell_type": "code",
   "execution_count": 123,
   "metadata": {},
   "outputs": [
    {
     "data": {
      "text/plain": [
       "[]"
      ]
     },
     "execution_count": 123,
     "metadata": {},
     "output_type": "execute_result"
    },
    {
     "data": {
      "image/png": "[encoded data removed]",
      "text/plain": [
       "<Figure size 432x288 with 1 Axes>"
      ]
     },
     "metadata": {
      "needs_background": "light"
     },
     "output_type": "display_data"
    }
   ],
   "source": [
    "sns.lineplot(x='Id',y='Actual',data=Results.head(50))\n",
    "sns.lineplot(x='Id',y='Predicted',data=Results.head(50))\n",
    "plt.plot()"
   ]
  },
  {
   "cell_type": "code",
   "execution_count": 1,
   "metadata": {},
   "outputs": [],
   "source": [
    "#RandomForest"
   ]
  },
  {
   "cell_type": "code",
   "execution_count": 124,
   "metadata": {},
   "outputs": [
    {
     "data": {
      "text/plain": [
       "GridSearchCV(estimator=RandomForestRegressor(),\n",
       "             param_grid={'criterion': ['mse'], 'max_depth': [3, 5, 10],\n",
       "                         'n_estimators': [25, 50, 75, 100, 125, 150, 175, 200]})"
      ]
     },
     "execution_count": 124,
     "metadata": {},
     "output_type": "execute_result"
    }
   ],
   "source": [
    "from sklearn.model_selection import GridSearchCV #GridSearchCV is for parameter tuning\n",
    "from sklearn.ensemble import RandomForestRegressor\n",
    "reg=RandomForestRegressor()\n",
    "n_estimators=[25,50,75,100,125,150,175,200] #number of decision trees in the forest, default = 100\n",
    "criterion=['mse'] #criteria for choosing nodes default = 'gini'\n",
    "max_depth=[3,5,10] #maximum number of nodes in a tree default = None (it will go till all possible nodes)\n",
    "parameters={'n_estimators': n_estimators,'criterion':criterion,'max_depth':max_depth}  \n",
    "RFC_reg = GridSearchCV(reg, parameters)\n",
    "RFC_reg.fit(X_train,y_train)"
   ]
  },
  {
   "cell_type": "code",
   "execution_count": 125,
   "metadata": {},
   "outputs": [
    {
     "data": {
      "text/plain": [
       "{'criterion': 'mse', 'max_depth': 5, 'n_estimators': 25}"
      ]
     },
     "execution_count": 125,
     "metadata": {},
     "output_type": "execute_result"
    }
   ],
   "source": [
    "RFC_reg.best_params_"
   ]
  },
  {
   "cell_type": "code",
   "execution_count": 126,
   "metadata": {},
   "outputs": [],
   "source": [
    "reg=RandomForestRegressor(n_estimators=125,criterion='mse',max_depth=5)"
   ]
  },
  {
   "cell_type": "code",
   "execution_count": 127,
   "metadata": {},
   "outputs": [
    {
     "data": {
      "text/plain": [
       "RandomForestRegressor(criterion='mse', max_depth=5, n_estimators=125)"
      ]
     },
     "execution_count": 127,
     "metadata": {},
     "output_type": "execute_result"
    }
   ],
   "source": [
    "reg.fit(X_train,y_train)"
   ]
  },
  {
   "cell_type": "code",
   "execution_count": 128,
   "metadata": {},
   "outputs": [],
   "source": [
    "y_pred=reg.predict(X_test)"
   ]
  },
  {
   "cell_type": "code",
   "execution_count": 129,
   "metadata": {},
   "outputs": [
    {
     "data": {
      "text/plain": [
       "array([ 5923.4848606 ,  7149.28585342,  9796.74818528,  9711.93039008,\n",
       "       10041.34151118,  9624.54724499,  9712.28929157, 10086.1629358 ,\n",
       "        9823.42457122,  9337.88438126, 10368.10188224,  7838.54660776,\n",
       "        7349.26827616,  7067.50467524,  9554.48198155, 10437.63512542,\n",
       "        9705.36193032,  7835.91425171,  5098.99509137, 10367.87257587,\n",
       "       10136.7510776 , 10437.28993214,  7380.40761765,  9797.61284405,\n",
       "        7384.14856908,  9066.45758883,  4784.0581183 ,  7042.40861253,\n",
       "        7681.64179105,  9571.44748651,  7110.19009264,  5140.94281507,\n",
       "        5371.15940838,  5068.01713298,  8645.06277033,  5512.48589478,\n",
       "       10139.21244571,  7328.57538162,  6496.62785687,  8894.90365347,\n",
       "        9769.1507083 ,  6849.28891445,  9389.92930497, 10415.92923013,\n",
       "        8203.53182844, 10442.04525266,  9264.23072726,  8909.47776631,\n",
       "        6321.62456357,  8776.99951949,  9605.35440044, 10357.77711272,\n",
       "       10073.05836011,  7103.01420694,  9620.17137022,  9374.82975022,\n",
       "        9680.33181472, 10428.58191711,  9762.72382856,  7074.55866709,\n",
       "       10081.70447145,  7143.33443536,  9761.26400115,  7113.98081189,\n",
       "        5825.89698976,  9668.66285967,  9767.6908809 ,  8962.80639579,\n",
       "        8629.63494473,  6220.53330591,  7684.90021524,  6927.93854383,\n",
       "        8786.87764239, 10377.2556728 ,  7087.2556453 ,  8597.58619394,\n",
       "        9761.26400115, 10058.89144579,  7227.29215644,  9387.46843593,\n",
       "       10432.54544687,  7861.24552411, 10428.58191711,  4528.65268777,\n",
       "       10437.63512542, 10455.07638273,  5912.62827413, 10430.2615936 ,\n",
       "        6472.42946512,  9285.95242588, 10363.44063954,  9368.96815204,\n",
       "        7040.28285135,  4033.08449974, 10151.2021303 ,  9787.89975573,\n",
       "        6589.00890633,  5000.85913168,  9015.30120105,  9783.4811283 ,\n",
       "        5278.1445342 ,  5378.53275118, 10128.21476834,  8290.6176552 ,\n",
       "       10428.58191711,  7414.76416474,  7041.77249122,  5540.22739032,\n",
       "        9220.79985609,  9797.61284405, 10280.61609451,  9341.90429609,\n",
       "        9445.49302313, 10124.22855178, 10428.58191711,  9818.53851326,\n",
       "        9685.6507745 ,  9394.39687261, 10372.76619735,  5266.25439618,\n",
       "        9755.44477388,  5557.89878762,  8641.30232819, 10153.74908983,\n",
       "        9030.73474395,  9819.00594378,  8810.85509204,  8618.46789058,\n",
       "        7819.97930497, 10382.60713969, 10363.44063954,  9981.65064535,\n",
       "       10259.99049639,  7316.55682232,  9571.44748651, 10365.12031603,\n",
       "        9613.7840054 ,  7902.0955849 ,  9660.73256242,  7254.62723957,\n",
       "       10428.58191711,  9298.42530147,  5706.95102279,  6980.13322183,\n",
       "        8054.39508481, 10384.28681618,  9831.96882682,  9628.96367035,\n",
       "       10388.18894621,  7857.67815067,  6188.25257047,  8694.36928823,\n",
       "       10438.96960863,  8807.56906877,  8583.81309952,  9623.99809886,\n",
       "        9620.76309209, 10157.89888096, 10439.31480191,  7152.78900769,\n",
       "        9582.48335259,  6508.64912304,  7328.54748488,  9494.41858767,\n",
       "        5107.36058619,  9791.93150317,  9957.86535374, 10091.36581002,\n",
       "        5800.89626057,  9743.00997143,  9038.55095163,  5168.44769053,\n",
       "        5414.09980269,  4953.56149208, 10395.23860132, 10012.73892644,\n",
       "        5089.64418322,  8556.99800039,  7114.32074039, 10151.2021303 ,\n",
       "       10151.32975172,  5501.36804832,  9964.79759845,  9560.34357973,\n",
       "        8831.76278303,  8832.96926385, 10035.6191553 , 10161.10024158,\n",
       "        7871.54458508,  5161.72460262,  9654.08244747, 10359.45678921,\n",
       "        5403.94283819, 10442.47050893,  5925.09870024,  9761.26400115,\n",
       "        9735.11978367,  8688.11120199,  6819.9218866 ,  9821.45840825,\n",
       "        8184.82822629,  8702.67062748,  5696.06436996, 10428.58191711,\n",
       "        5831.11350479,  8547.491647  ,  7981.10916897,  9680.34085344,\n",
       "        8101.89034451, 10077.19889569,  9814.08384816,  9949.3694847 ,\n",
       "       10442.63299083,  8860.01795586,  6576.18401021, 10044.66856476,\n",
       "        6564.4813202 , 10432.54544687,  9057.59194321, 10365.92379416,\n",
       "        9368.98490897,  9797.61284405,  8311.08480757,  9137.76440951,\n",
       "       10157.89888096,  7853.67187869,  4818.39618881, 10073.05836011,\n",
       "       10119.65017067, 10432.94627805, 10151.32975172,  4958.00388413,\n",
       "        7217.93822634,  9580.25138393,  9618.04212347,  5222.16840323,\n",
       "       10151.87239922,  5129.45419528,  7882.28955243,  7022.96060494,\n",
       "        7357.68659784,  9895.0795218 ,  8193.59379649, 10370.21106098,\n",
       "        7113.98081189,  9717.53779986,  7858.90598616,  7151.35823323,\n",
       "       10430.94879559, 10430.2615936 ,  5308.89918312,  9086.73191077,\n",
       "        9558.89975115, 10391.14426463, 10374.52326448,  9245.78619751,\n",
       "        5723.64088741,  9685.6507745 , 10428.58191711,  8661.84544305,\n",
       "        8500.54110048,  9843.77685883,  9492.56704296,  9823.42457122,\n",
       "       10363.44063954, 10370.21106098,  9619.73787713,  7946.58851674,\n",
       "       10377.2556728 , 10430.2615936 ,  8960.52986567,  8819.41250584,\n",
       "        5866.52086015, 10134.86941548,  4967.50207005,  8567.08713129,\n",
       "        5364.01001227, 10048.03754963,  8686.70158621, 10073.12483086,\n",
       "        9564.21195386, 10377.2556728 , 10110.43138499,  9899.15358662,\n",
       "        9680.34085344,  7160.88768705,  9652.77319074,  8422.43350854,\n",
       "        6898.00001911, 10438.96960863, 10058.89144579, 10307.51130934,\n",
       "        5541.08094683,  8603.21616755,  9623.35204453,  5541.08094683,\n",
       "        8018.88853493,  9623.35204453,  5135.4712434 , 10006.51272273,\n",
       "        9735.11978367,  7820.06917458, 10077.19889569, 10382.60713969,\n",
       "       10162.71312995,  7127.02882294,  6347.40220284, 10435.27866777,\n",
       "        8596.19390702,  5210.02539721,  9823.42457122,  4794.54699589,\n",
       "        7397.869876  ,  5536.23541704,  9831.96882682, 10428.58191711,\n",
       "        9644.55060779,  8768.37561946,  7193.93199481,  4863.06707662,\n",
       "        9788.77647965, 10437.63512542,  5639.49408251, 10146.18696647,\n",
       "        9500.20779859,  7842.90891005,  5389.02458317,  9788.77647965,\n",
       "       10368.10188224,  6075.86778826,  9548.22201793,  9508.50110195,\n",
       "       10436.95834426,  9485.91838511, 10064.21697145,  9824.23267563,\n",
       "        7094.0217709 ,  8010.71553653, 10428.58191711, 10434.81756728,\n",
       "        7010.81224682,  9850.20404019, 10368.10188224, 10377.32923136,\n",
       "       10432.78589582, 10119.65017067,  9632.06404703,  7841.62182399,\n",
       "        9407.6165353 , 10073.12483086,  9921.00930523, 10006.51085874,\n",
       "        9120.39766183,  9599.11060786,  9630.21608927,  9738.11842917,\n",
       "        8563.46068827,  5662.67278629,  6263.08570208,  8483.12026257,\n",
       "        8556.99800039,  6230.55797131,  7114.98041898,  5412.93134785,\n",
       "        7927.49024736,  9738.41862573,  7684.90021524,  9788.77647965,\n",
       "       10356.24556204,  5897.47526461, 10192.1469951 ,  9981.65064535,\n",
       "        7303.11497201,  4617.7552903 , 10440.65745141,  4209.54069008,\n",
       "        9797.61284405, 10366.42220574,  5228.59240016,  5420.72337587,\n",
       "       10374.30035439,  6920.660274  ,  8814.89004799, 10451.52371724,\n",
       "       10014.71328671,  9830.00266385,  9043.03912706,  7664.73428811,\n",
       "       10371.89073747,  5936.94412485,  9788.77647965, 10159.23326004,\n",
       "       10427.11248229,  9618.50868081,  9528.96719465,  9680.34085344,\n",
       "        5515.06450044,  5357.89035232,  5113.68113354,  9724.7334041 ,\n",
       "        5987.1967867 ,  9783.4811283 , 10126.20734822,  5077.89284942,\n",
       "        7938.7795108 ,  9793.19510708,  5542.75548029, 10428.58191711,\n",
       "        5401.01068496,  9614.97920586, 10082.08887098, 10153.74908983,\n",
       "        9712.30756681,  5077.89284942,  5670.2285278 ,  7890.1430551 ,\n",
       "        9751.85449614, 10428.58191711,  9818.56668886,  7432.67052373,\n",
       "        8686.70158621,  9928.71526473, 10439.31480191,  9787.12566525,\n",
       "        8264.05619145,  9741.39383973,  8517.10820378,  9761.87165362,\n",
       "        9767.6908809 ,  9760.41597644,  7191.5400284 ,  7245.80448391,\n",
       "        8906.46730621,  9808.75321788,  9782.44945204, 10363.44063954,\n",
       "        7893.73432045,  7069.79303486,  9812.90367163,  8909.47776631,\n",
       "        9797.61284405, 10121.10381964, 10162.71312995, 10081.70447145,\n",
       "        9197.37340707, 10005.38089683,  9069.5218116 , 10077.19889569,\n",
       "        7541.50023795,  5706.87362024,  8637.1804004 , 10075.16430814,\n",
       "        5390.31832706, 10151.2021303 ,  9564.21195386,  7873.57725786,\n",
       "        9303.69885557,  7219.08899287, 10452.9787237 , 10063.39702154,\n",
       "       10382.60713969,  9850.20404019, 10126.20734822,  6569.65324958,\n",
       "       10449.16725959,  9812.90367163, 10430.86138312, 10048.78847639,\n",
       "        9613.7840054 ,  6287.03112783,  7875.50684767, 10438.96960863,\n",
       "        6046.84984642,  7204.31834501,  9803.89533552,  7041.04159767,\n",
       "        7824.74546226,  5322.23023287,  4738.51686386,  8401.30071359,\n",
       "        7036.64511066,  7128.11124677,  7089.25888047,  7077.71568718,\n",
       "        9831.96882682,  8686.70158621,  9495.61378813, 10430.2615936 ,\n",
       "       10151.2021303 , 10430.2615936 ,  9761.87165362,  5614.89565382,\n",
       "        9654.70264136,  7201.05663417,  5384.39143817,  4959.6277652 ,\n",
       "        9796.74818528,  9353.86909419, 10081.70447145,  6328.9248272 ,\n",
       "        8516.91331965, 10437.63512542,  4975.64104509,  9968.20302992,\n",
       "        6263.08570208, 10017.04527552,  8583.82882972, 10437.63512542])"
      ]
     },
     "execution_count": 129,
     "metadata": {},
     "output_type": "execute_result"
    }
   ],
   "source": [
    "y_pred"
   ]
  },
  {
   "cell_type": "code",
   "execution_count": 130,
   "metadata": {},
   "outputs": [
    {
     "data": {
      "text/plain": [
       "0.8471328580053142"
      ]
     },
     "execution_count": 130,
     "metadata": {},
     "output_type": "execute_result"
    }
   ],
   "source": [
    "from sklearn.metrics import r2_score\n",
    "r2_score(y_test,y_pred)"
   ]
  },
  {
   "cell_type": "code",
   "execution_count": 131,
   "metadata": {},
   "outputs": [
    {
     "data": {
      "text/html": [
       "<div>\n",
       "<style scoped>\n",
       "    .dataframe tbody tr th:only-of-type {\n",
       "        vertical-align: middle;\n",
       "    }\n",
       "\n",
       "    .dataframe tbody tr th {\n",
       "        vertical-align: top;\n",
       "    }\n",
       "\n",
       "    .dataframe thead th {\n",
       "        text-align: right;\n",
       "    }\n",
       "</style>\n",
       "<table border=\"1\" class=\"dataframe\">\n",
       "  <thead>\n",
       "    <tr style=\"text-align: right;\">\n",
       "      <th></th>\n",
       "      <th>index</th>\n",
       "      <th>Actual</th>\n",
       "      <th>Predicted</th>\n",
       "      <th>Id</th>\n",
       "    </tr>\n",
       "  </thead>\n",
       "  <tbody>\n",
       "    <tr>\n",
       "      <th>0</th>\n",
       "      <td>481</td>\n",
       "      <td>7900</td>\n",
       "      <td>5923.484861</td>\n",
       "      <td>0</td>\n",
       "    </tr>\n",
       "    <tr>\n",
       "      <th>1</th>\n",
       "      <td>76</td>\n",
       "      <td>7900</td>\n",
       "      <td>7149.285853</td>\n",
       "      <td>1</td>\n",
       "    </tr>\n",
       "    <tr>\n",
       "      <th>2</th>\n",
       "      <td>1502</td>\n",
       "      <td>9400</td>\n",
       "      <td>9796.748185</td>\n",
       "      <td>2</td>\n",
       "    </tr>\n",
       "    <tr>\n",
       "      <th>3</th>\n",
       "      <td>669</td>\n",
       "      <td>8500</td>\n",
       "      <td>9711.930390</td>\n",
       "      <td>3</td>\n",
       "    </tr>\n",
       "    <tr>\n",
       "      <th>4</th>\n",
       "      <td>1409</td>\n",
       "      <td>9700</td>\n",
       "      <td>10041.341511</td>\n",
       "      <td>4</td>\n",
       "    </tr>\n",
       "    <tr>\n",
       "      <th>5</th>\n",
       "      <td>1414</td>\n",
       "      <td>9900</td>\n",
       "      <td>9624.547245</td>\n",
       "      <td>5</td>\n",
       "    </tr>\n",
       "    <tr>\n",
       "      <th>6</th>\n",
       "      <td>1089</td>\n",
       "      <td>9900</td>\n",
       "      <td>9712.289292</td>\n",
       "      <td>6</td>\n",
       "    </tr>\n",
       "    <tr>\n",
       "      <th>7</th>\n",
       "      <td>1507</td>\n",
       "      <td>9950</td>\n",
       "      <td>10086.162936</td>\n",
       "      <td>7</td>\n",
       "    </tr>\n",
       "    <tr>\n",
       "      <th>8</th>\n",
       "      <td>970</td>\n",
       "      <td>10700</td>\n",
       "      <td>9823.424571</td>\n",
       "      <td>8</td>\n",
       "    </tr>\n",
       "    <tr>\n",
       "      <th>9</th>\n",
       "      <td>1198</td>\n",
       "      <td>8999</td>\n",
       "      <td>9337.884381</td>\n",
       "      <td>9</td>\n",
       "    </tr>\n",
       "  </tbody>\n",
       "</table>\n",
       "</div>"
      ],
      "text/plain": [
       "   index  Actual     Predicted  Id\n",
       "0    481    7900   5923.484861   0\n",
       "1     76    7900   7149.285853   1\n",
       "2   1502    9400   9796.748185   2\n",
       "3    669    8500   9711.930390   3\n",
       "4   1409    9700  10041.341511   4\n",
       "5   1414    9900   9624.547245   5\n",
       "6   1089    9900   9712.289292   6\n",
       "7   1507    9950  10086.162936   7\n",
       "8    970   10700   9823.424571   8\n",
       "9   1198    8999   9337.884381   9"
      ]
     },
     "execution_count": 131,
     "metadata": {},
     "output_type": "execute_result"
    }
   ],
   "source": [
    "Results= a.DataFrame(columns=['Actual','Predicted'])\n",
    "Results['Actual']=y_test\n",
    "Results['Predicted']=y_pred\n",
    "#Results['km']=X_test['km']\n",
    "Results=Results.reset_index()\n",
    "Results['Id']=Results.index\n",
    "Results.head(10)"
   ]
  },
  {
   "cell_type": "code",
   "execution_count": 132,
   "metadata": {},
   "outputs": [
    {
     "data": {
      "text/plain": [
       "[]"
      ]
     },
     "execution_count": 132,
     "metadata": {},
     "output_type": "execute_result"
    },
    {
     "data": {
      "image/png": "[encoded data removed]",
      "text/plain": [
       "<Figure size 432x288 with 1 Axes>"
      ]
     },
     "metadata": {
      "needs_background": "light"
     },
     "output_type": "display_data"
    }
   ],
   "source": [
    "sns.lineplot(x='Id',y='Actual',data=Results.head(100))\n",
    "sns.lineplot(x='Id',y='Predicted',data=Results.head(100))\n",
    "plt.plot()"
   ]
  },
  {
   "cell_type": "code",
   "execution_count": null,
   "metadata": {},
   "outputs": [],
   "source": []
  },
  {
   "cell_type": "code",
   "execution_count": null,
   "metadata": {},
   "outputs": [],
   "source": []
  },
  {
   "cell_type": "code",
   "execution_count": null,
   "metadata": {},
   "outputs": [],
   "source": []
  },
  {
   "cell_type": "code",
   "execution_count": null,
   "metadata": {},
   "outputs": [],
   "source": []
  }
 ],
 "metadata": {
  "kernelspec": {
   "display_name": "Python 3 (ipykernel)",
   "language": "python",
   "name": "python3"
  },
  "language_info": {
   "codemirror_mode": {
    "name": "ipython",
    "version": 3
   },
   "file_extension": ".py",
   "mimetype": "text/x-python",
   "name": "python",
   "nbconvert_exporter": "python",
   "pygments_lexer": "ipython3",
   "version": "3.9.12"
  }
 },
 "nbformat": 4,
 "nbformat_minor": 4
}
